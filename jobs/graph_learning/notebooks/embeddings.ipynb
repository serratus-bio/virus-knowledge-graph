{
 "cells": [
  {
   "cell_type": "code",
   "execution_count": 1,
   "metadata": {},
   "outputs": [
    {
     "name": "stderr",
     "output_type": "stream",
     "text": [
      "/home/ec2-user/miniconda3/envs/rnalab/lib/python3.11/site-packages/tqdm/auto.py:21: TqdmWarning: IProgress not found. Please update jupyter and ipywidgets. See https://ipywidgets.readthedocs.io/en/stable/user_install.html\n",
      "  from .autonotebook import tqdm as notebook_tqdm\n"
     ]
    }
   ],
   "source": [
    "# Imports and config for the notebook\n",
    "\n",
    "## Notebook config\n",
    "import sys\n",
    "if '../' not in sys.path:\n",
    "    sys.path.append(\"../\")\n",
    "%load_ext dotenv\n",
    "%reload_ext dotenv\n",
    "%dotenv\n",
    "\n",
    "import collections\n",
    "import os\n",
    "import csv\n",
    "\n",
    "import pandas as pd\n",
    "import numpy as np\n",
    "import matplotlib.pyplot as plt\n",
    "import graphistry\n",
    "\n",
    "from datasources.neo4j import gds\n",
    "from queries import utils"
   ]
  },
  {
   "cell_type": "code",
   "execution_count": 2,
   "metadata": {},
   "outputs": [
    {
     "name": "stdout",
     "output_type": "stream",
     "text": [
      "<graphdatascience.graph_data_science.GraphDataScience object at 0x7f4a12cb81d0>\n"
     ]
    }
   ],
   "source": [
    "# Configs\n",
    "\n",
    "# graphistry.register(\n",
    "#     api=3,\n",
    "#     username=os.getenv('GRAPHISTRY_USERNAME'),\n",
    "#     password=os.getenv('GRAPHISTRY_PASSWORD'),\n",
    "# )\n",
    "\n",
    "RANDOM_SEED = 42\n",
    "EMBEDDINGS_DIR = '/mnt/embeddings/'\n",
    "\n",
    "print(gds)"
   ]
  },
  {
   "attachments": {},
   "cell_type": "markdown",
   "metadata": {},
   "source": [
    "TODO:\n",
    "\n",
    "\n",
    "- Create Tissue projection (random generate initial embeddings)\n",
    "- Create Taxon projection (use rank as initial feature?)\n",
    "\n",
    "- Create heterogenous projection from dataset?\n",
    "- run memory estimates for hashgnn and fastRP using hetero projection and \n",
    "\n",
    "\n",
    "- HashGNN_homogenous, HashGNN_heterogenous\n",
    "- FastRP_homogenous, FastRP_heterogenous"
   ]
  },
  {
   "cell_type": "code",
   "execution_count": 13,
   "metadata": {},
   "outputs": [],
   "source": [
    "TAXON_PROJECTION_NAME = 'taxon-graph'\n",
    "TISSUE_PROJECTION_NAME = 'tissue-graph'\n",
    "HOMOGENOUS_PROJECTION_NAME = 'homogenous-graph'\n",
    "HETERO_PROJECTION_NAME = 'hetero-graph'\n"
   ]
  },
  {
   "cell_type": "code",
   "execution_count": 14,
   "metadata": {},
   "outputs": [],
   "source": [
    "\n",
    "def get_homogenous_projection():\n",
    "    projection = gds.graph.project(\n",
    "        graph_name=HOMOGENOUS_PROJECTION_NAME,\n",
    "        node_spec=[\n",
    "            'Taxon',\n",
    "            'Tissue',\n",
    "            'SOTU',\n",
    "        ],\n",
    "        relationship_spec={\n",
    "            'HAS_PARENT': {'orientation': 'UNDIRECTED'},\n",
    "            'SEQUENCE_ALIGNMENT': {'orientation': 'UNDIRECTED'},\n",
    "        },\n",
    "    )\n",
    "    return projection\n",
    "\n",
    "\n",
    "# TODO: Use dataset projection\n",
    "def get_heterogenous_projection():\n",
    "    projection = gds.graph.project(\n",
    "        graph_name=HETERO_PROJECTION_NAME,\n",
    "        node_spec=[\n",
    "            'Taxon',\n",
    "            'Tissue',\n",
    "            'SOTU',\n",
    "        ],\n",
    "        relationship_spec={\n",
    "            'HAS_PARENT': {'orientation': 'UNDIRECTED'},\n",
    "            'SEQUENCE_ALIGNMENT': {'orientation': 'UNDIRECTED'},\n",
    "        },\n",
    "    )\n",
    "    return projection\n",
    "\n",
    "\n",
    "def get_taxon_projection():\n",
    "    projection = gds.graph.project(\n",
    "        graph_name=TAXON_PROJECTION_NAME,\n",
    "        node_spec=[\n",
    "            'Taxon',\n",
    "        ],\n",
    "        relationship_spec={\n",
    "            'HAS_PARENT': {'orientation': 'UNDIRECTED'},\n",
    "        },\n",
    "    )\n",
    "    return projection\n",
    "\n",
    "def get_tissue_projection():\n",
    "    projection = gds.graph.project(\n",
    "        graph_name=TISSUE_PROJECTION_NAME,\n",
    "        node_spec=['Tissue'],\n",
    "        relationship_spec={\n",
    "            'HAS_PARENT': {'orientation': 'UNDIRECTED'},\n",
    "        },\n",
    "    )\n",
    "    return projection\n"
   ]
  },
  {
   "cell_type": "code",
   "execution_count": 15,
   "metadata": {},
   "outputs": [],
   "source": [
    "projection = get_homogenous_projection()"
   ]
  },
  {
   "cell_type": "code",
   "execution_count": 18,
   "metadata": {},
   "outputs": [
    {
     "data": {
      "text/plain": [
       "requiredMemory                                [1338 MiB ... 12865 MiB]\n",
       "treeView             Memory Estimation: [1338 MiB ... 12865 MiB]\\n|...\n",
       "mapView              {'memoryUsage': '[1338 MiB ... 12865 MiB]', 'n...\n",
       "bytesMin                                                    1403659432\n",
       "bytesMax                                                   13490131432\n",
       "nodeCount                                                      3021618\n",
       "relationshipCount                                             57702540\n",
       "heapPercentageMin                                                  0.1\n",
       "heapPercentageMax                                                  0.6\n",
       "Name: 0, dtype: object"
      ]
     },
     "execution_count": 18,
     "metadata": {},
     "output_type": "execute_result"
    }
   ],
   "source": [
    "# https://neo4j.com/docs/graph-data-science/current/machine-learning/node-embeddings/hashgnn/#algorithms-embeddings-hashgnn-syntax\n",
    "# https://github.com/neo4j/graph-data-science-client/blob/main/examples/heterogeneous-node-classification-with-hashgnn.ipynb#L18\n",
    "\n",
    "# one may try to set embeddingDensity to 128, 256, 512, or roughly 25%-50% of the embedding dimension, i.e. the number of binary features.\n",
    "\n",
    "gds.hashgnn.stream.estimate(\n",
    "    G=gds.graph.get(HOMOGENOUS_PROJECTION_NAME),\n",
    "    nodeLabels=['Taxon', 'Tissue', 'SOTU'],\n",
    "    relationshipTypes=['HAS_PARENT', 'SEQUENCE_ALIGNMENT'],\n",
    "    randomSeed=RANDOM_SEED,\n",
    "    generateFeatures={\n",
    "        'dimension': 512, # dimension of the embedding vector\n",
    "        'densityLevel': 2, # number of initial values equalling 1\n",
    "    },\n",
    "    iterations=10, # maximum number of hops\n",
    "    embeddingDensity=256,\n",
    "    neighborInfluence=1.0,\n",
    ")"
   ]
  },
  {
   "cell_type": "code",
   "execution_count": 20,
   "metadata": {},
   "outputs": [
    {
     "name": "stderr",
     "output_type": "stream",
     "text": [
      "HashGNN:  48%|████▊     | 47.58/100 [1:53:11<2:18:41, 158.75s/%]"
     ]
    }
   ],
   "source": [
    "filename = 'HashGNN_homogenous.csv'\n",
    "df = gds.hashgnn.stream(\n",
    "    G=gds.graph.get(HOMOGENOUS_PROJECTION_NAME),\n",
    "    nodeLabels=['Taxon', 'Tissue', 'SOTU'],\n",
    "    relationshipTypes=['HAS_PARENT', 'SEQUENCE_ALIGNMENT'],\n",
    "    randomSeed=RANDOM_SEED,\n",
    "    generateFeatures={\n",
    "        'dimension': 512, # dimension of the embedding vector\n",
    "        'densityLevel': 2, # number of initial values equalling 1\n",
    "    },\n",
    "    iterations=10, # maximum number of hops\n",
    "    embeddingDensity=256,\n",
    "    neighborInfluence=1.0,\n",
    ")\n",
    "\n",
    "df.to_csv(EMBEDDING_DIR + filename, index=False)"
   ]
  },
  {
   "cell_type": "code",
   "execution_count": null,
   "metadata": {},
   "outputs": [],
   "source": [
    "gds.fastrp.stream.estimate(\n",
    "    G=gds.graph.get(HOMOGENOUS_PROJECTION_NAME),\n",
    "    nodeLabels=['Taxon', 'Tissue', 'SOTU'],\n",
    "    relationshipTypes=['HAS_PARENT', 'SEQUENCE_ALIGNMENT'],\n",
    "    randomSeed=RANDOM_SEED,\n",
    "    embeddingDimension=256,\n",
    "    relationshipWeightProperty=\"weight\",\n",
    ")"
   ]
  },
  {
   "cell_type": "code",
   "execution_count": null,
   "metadata": {},
   "outputs": [],
   "source": [
    "filename = 'FastRP_homogenous.csv'\n",
    "df = gds.fastrp.stream(\n",
    "    G=gds.graph.get(HOMOGENOUS_PROJECTION_NAME),\n",
    "    nodeLabels=['Taxon', 'Tissue', 'SOTU'],\n",
    "    relationshipTypes=['HAS_PARENT', 'SEQUENCE_ALIGNMENT'],\n",
    "    randomSeed=RANDOM_SEED,\n",
    "    embeddingDimension=256,\n",
    "    relationshipWeightProperty='weight',\n",
    ")\n",
    "df.to_csv(EMBEDDING_DIR + filename, index=False)"
   ]
  },
  {
   "cell_type": "code",
   "execution_count": 2,
   "metadata": {},
   "outputs": [
    {
     "name": "stdout",
     "output_type": "stream",
     "text": [
      "Reading local file:  /mnt/graphdata/query_cache/neo4j/sotu_nodes.csv\n",
      "Reading local file:  /mnt/graphdata/query_cache/neo4j/taxon_nodes.csv\n",
      "Reading local file:  /mnt/graphdata/query_cache/neo4j/tissue_nodes.csv\n",
      "Reading local file:  /mnt/graphdata/query_cache/neo4j/sotu_has_host_stat_edges.csv\n",
      "Reading local file:  /mnt/graphdata/query_cache/neo4j/taxon_has_parent_edges.csv\n",
      "Reading local file:  /mnt/graphdata/query_cache/neo4j/sotu_sequence_alignment_edges.csv\n",
      "Reading local file:  /mnt/graphdata/query_cache/neo4j/sotu_has_inferred_taxon_edges.csv\n",
      "Reading local file:  /mnt/graphdata/query_cache/neo4j/sotu_has_tissue_metadata_edges.csv\n"
     ]
    }
   ],
   "source": [
    "from queries import feature_queries\n",
    "from config.base import (\n",
    "    DIR_CFG,\n",
    "    MODEL_CFG,\n",
    "    DATASET_CFG,\n",
    ")\n",
    "\n",
    "dir_name = '/mnt/graphdata/query_cache/neo4j/'\n",
    "\n",
    "\n",
    "dataset_cfg = DATASET_CFG\n",
    "nodes = feature_queries.get_all_node_features(\n",
    "    dir_name=dir_name,\n",
    "    dataset_cfg=dataset_cfg,\n",
    ")\n",
    "\n",
    "relationships = feature_queries.get_all_relationship_features(\n",
    "    dir_name=dir_name,\n",
    "    dataset_cfg=dataset_cfg,\n",
    ")\n",
    "\n",
    "undirected_relationship_types = list(\n",
    "    map(\n",
    "        (lambda cfg: cfg['TYPES'][0]),\n",
    "        dataset_cfg['REL_TYPES']\n",
    "    )\n",
    ")"
   ]
  },
  {
   "cell_type": "code",
   "execution_count": 6,
   "metadata": {},
   "outputs": [
    {
     "name": "stdout",
     "output_type": "stream",
     "text": [
      "(3021618, 3)\n",
      "(24096965, 4)\n",
      "incl-best-1_1\n"
     ]
    }
   ],
   "source": [
    "print(nodes.shape)\n",
    "print(relationships.shape)\n",
    "\n",
    "model_cfg = MODEL_CFG\n",
    "sampling_ratio = 1\n",
    "\n",
    "graph_name = \\\n",
    "        f\"{model_cfg['PROJECTION_NAME']}_{sampling_ratio}\"\n",
    "\n",
    "print(graph_name)"
   ]
  },
  {
   "cell_type": "code",
   "execution_count": 9,
   "metadata": {},
   "outputs": [
    {
     "ename": "KeyboardInterrupt",
     "evalue": "",
     "output_type": "error",
     "traceback": [
      "\u001b[0;31m---------------------------------------------------------------------------\u001b[0m",
      "\u001b[0;31mKeyboardInterrupt\u001b[0m                         Traceback (most recent call last)",
      "Cell \u001b[0;32mIn[9], line 1\u001b[0m\n\u001b[0;32m----> 1\u001b[0m gds\u001b[39m.\u001b[39malpha\u001b[39m.\u001b[39mgraph\u001b[39m.\u001b[39mconstruct(\n\u001b[1;32m      2\u001b[0m     graph_name\u001b[39m=\u001b[39mgraph_name,\n\u001b[1;32m      3\u001b[0m     nodes\u001b[39m=\u001b[39mnodes,\n\u001b[1;32m      4\u001b[0m     relationships\u001b[39m=\u001b[39mrelationships,\n\u001b[1;32m      5\u001b[0m     concurrency\u001b[39m=\u001b[39m\u001b[39m40\u001b[39m,\n\u001b[1;32m      6\u001b[0m     undirected_relationship_types\u001b[39m=\u001b[39mundirected_relationship_types,\n\u001b[1;32m      7\u001b[0m )\n",
      "File \u001b[0;32m~/miniconda3/envs/rnalab/lib/python3.11/site-packages/graphdatascience/error/client_only_endpoint.py:22\u001b[0m, in \u001b[0;36mclient_only_endpoint.<locals>.decorator.<locals>.wrapper\u001b[0;34m(self, *args, **kwargs)\u001b[0m\n\u001b[1;32m     16\u001b[0m \u001b[39mif\u001b[39;00m \u001b[39mself\u001b[39m\u001b[39m.\u001b[39m_namespace \u001b[39m!=\u001b[39m expected_namespace_prefix:\n\u001b[1;32m     17\u001b[0m     \u001b[39mraise\u001b[39;00m \u001b[39mSyntaxError\u001b[39;00m(\n\u001b[1;32m     18\u001b[0m         \u001b[39mf\u001b[39m\u001b[39m\"\u001b[39m\u001b[39mThere is no \u001b[39m\u001b[39m'\u001b[39m\u001b[39m{\u001b[39;00m\u001b[39mself\u001b[39m\u001b[39m.\u001b[39m_namespace\u001b[39m}\u001b[39;00m\u001b[39m.\u001b[39m\u001b[39m{\u001b[39;00mfunc\u001b[39m.\u001b[39m\u001b[39m__name__\u001b[39m\u001b[39m}\u001b[39;00m\u001b[39m'\u001b[39m\u001b[39m to call. \u001b[39m\u001b[39m\"\u001b[39m\n\u001b[1;32m     19\u001b[0m         \u001b[39mf\u001b[39m\u001b[39m\"\u001b[39m\u001b[39mDid you mean \u001b[39m\u001b[39m'\u001b[39m\u001b[39m{\u001b[39;00mexpected_namespace_prefix\u001b[39m}\u001b[39;00m\u001b[39m.\u001b[39m\u001b[39m{\u001b[39;00mfunc\u001b[39m.\u001b[39m\u001b[39m__name__\u001b[39m\u001b[39m}\u001b[39;00m\u001b[39m?\u001b[39m\u001b[39m\"\u001b[39m\n\u001b[1;32m     20\u001b[0m     )\n\u001b[0;32m---> 22\u001b[0m \u001b[39mreturn\u001b[39;00m func(\u001b[39mself\u001b[39m, \u001b[39m*\u001b[39margs, \u001b[39m*\u001b[39m\u001b[39m*\u001b[39mkwargs)\n",
      "File \u001b[0;32m~/miniconda3/envs/rnalab/lib/python3.11/site-packages/graphdatascience/error/client_only_endpoint.py:39\u001b[0m, in \u001b[0;36mclient_deprecated.<locals>.decorator.<locals>.wrapper\u001b[0;34m(self, *args, **kwargs)\u001b[0m\n\u001b[1;32m     36\u001b[0m \u001b[39m@wraps\u001b[39m(func)\n\u001b[1;32m     37\u001b[0m \u001b[39mdef\u001b[39;00m \u001b[39mwrapper\u001b[39m(\u001b[39mself\u001b[39m: CallerBase, \u001b[39m*\u001b[39margs: Any, \u001b[39m*\u001b[39m\u001b[39m*\u001b[39mkwargs: Any) \u001b[39m-\u001b[39m\u001b[39m>\u001b[39m Any:\n\u001b[1;32m     38\u001b[0m     warnings\u001b[39m.\u001b[39mwarn(\u001b[39mf\u001b[39m\u001b[39m\"\u001b[39m\u001b[39mDeprecated `\u001b[39m\u001b[39m{\u001b[39;00mold_endpoint\u001b[39m}\u001b[39;00m\u001b[39m` in favor of `\u001b[39m\u001b[39m{\u001b[39;00mnew_endpoint\u001b[39m}\u001b[39;00m\u001b[39m`\u001b[39m\u001b[39m\"\u001b[39m, \u001b[39mDeprecationWarning\u001b[39;00m)\n\u001b[0;32m---> 39\u001b[0m     \u001b[39mreturn\u001b[39;00m func(\u001b[39mself\u001b[39m, \u001b[39m*\u001b[39margs, \u001b[39m*\u001b[39m\u001b[39m*\u001b[39mkwargs)\n",
      "File \u001b[0;32m~/miniconda3/envs/rnalab/lib/python3.11/site-packages/graphdatascience/server_version/compatible_with.py:39\u001b[0m, in \u001b[0;36mcompatible_with.<locals>.decorator.<locals>.wrapper\u001b[0;34m(self, *args, **kwargs)\u001b[0m\n\u001b[1;32m     33\u001b[0m \u001b[39mif\u001b[39;00m max_exclusive \u001b[39mand\u001b[39;00m \u001b[39mself\u001b[39m\u001b[39m.\u001b[39m_server_version \u001b[39m>\u001b[39m\u001b[39m=\u001b[39m max_exclusive:\n\u001b[1;32m     34\u001b[0m     \u001b[39mraise\u001b[39;00m IncompatibleServerVersionError(\n\u001b[1;32m     35\u001b[0m         \u001b[39mf\u001b[39m\u001b[39m\"\u001b[39m\u001b[39mThe call \u001b[39m\u001b[39m{\u001b[39;00m\u001b[39mself\u001b[39m\u001b[39m.\u001b[39m_namespace\u001b[39m}\u001b[39;00m\u001b[39m.\u001b[39m\u001b[39m{\u001b[39;00mfunc_name\u001b[39m}\u001b[39;00m\u001b[39m with parameters \u001b[39m\u001b[39m{\u001b[39;00mparameters\u001b[39m}\u001b[39;00m\u001b[39m requires GDS server \u001b[39m\u001b[39m\"\u001b[39m\n\u001b[1;32m     36\u001b[0m         \u001b[39mf\u001b[39m\u001b[39m\"\u001b[39m\u001b[39mversion < \u001b[39m\u001b[39m{\u001b[39;00mmax_exclusive\u001b[39m}\u001b[39;00m\u001b[39m. The current version is \u001b[39m\u001b[39m{\u001b[39;00m\u001b[39mself\u001b[39m\u001b[39m.\u001b[39m_server_version\u001b[39m}\u001b[39;00m\u001b[39m\"\u001b[39m\n\u001b[1;32m     37\u001b[0m     )\n\u001b[0;32m---> 39\u001b[0m \u001b[39mreturn\u001b[39;00m func(\u001b[39mself\u001b[39m, \u001b[39m*\u001b[39margs, \u001b[39m*\u001b[39m\u001b[39m*\u001b[39mkwargs)\n",
      "File \u001b[0;32m~/miniconda3/envs/rnalab/lib/python3.11/site-packages/graphdatascience/graph/graph_alpha_proc_runner.py:54\u001b[0m, in \u001b[0;36mGraphAlphaProcRunner.construct\u001b[0;34m(self, graph_name, nodes, relationships, concurrency, undirected_relationship_types)\u001b[0m\n\u001b[1;32m     50\u001b[0m relationships \u001b[39m=\u001b[39m relationships \u001b[39mif\u001b[39;00m \u001b[39misinstance\u001b[39m(relationships, List) \u001b[39melse\u001b[39;00m [relationships]\n\u001b[1;32m     52\u001b[0m errors \u001b[39m=\u001b[39m []\n\u001b[0;32m---> 54\u001b[0m exists \u001b[39m=\u001b[39m \u001b[39mself\u001b[39m\u001b[39m.\u001b[39m_query_runner\u001b[39m.\u001b[39mrun_query(\n\u001b[1;32m     55\u001b[0m     \u001b[39mf\u001b[39m\u001b[39m\"\u001b[39m\u001b[39mCALL gds.graph.exists(\u001b[39m\u001b[39m'\u001b[39m\u001b[39m{\u001b[39;00mgraph_name\u001b[39m}\u001b[39;00m\u001b[39m'\u001b[39m\u001b[39m) YIELD exists\u001b[39m\u001b[39m\"\u001b[39m, custom_error\u001b[39m=\u001b[39m\u001b[39mFalse\u001b[39;00m\n\u001b[1;32m     56\u001b[0m )\u001b[39m.\u001b[39msqueeze()\n\u001b[1;32m     58\u001b[0m \u001b[39m# compare against True as (1) unit tests return None here and (2) numpys True does not work with `is True`.\u001b[39;00m\n\u001b[1;32m     59\u001b[0m \u001b[39mif\u001b[39;00m exists \u001b[39m==\u001b[39m \u001b[39mTrue\u001b[39;00m:  \u001b[39m# noqa: E712\u001b[39;00m\n",
      "File \u001b[0;32m~/miniconda3/envs/rnalab/lib/python3.11/site-packages/graphdatascience/query_runner/neo4j_query_runner.py:56\u001b[0m, in \u001b[0;36mNeo4jQueryRunner.run_query\u001b[0;34m(self, query, params, database, custom_error)\u001b[0m\n\u001b[1;32m     54\u001b[0m \u001b[39mwith\u001b[39;00m \u001b[39mself\u001b[39m\u001b[39m.\u001b[39m_driver\u001b[39m.\u001b[39msession(database\u001b[39m=\u001b[39mdatabase, bookmarks\u001b[39m=\u001b[39m\u001b[39mself\u001b[39m\u001b[39m.\u001b[39mbookmarks()) \u001b[39mas\u001b[39;00m session:\n\u001b[1;32m     55\u001b[0m     \u001b[39mtry\u001b[39;00m:\n\u001b[0;32m---> 56\u001b[0m         result \u001b[39m=\u001b[39m session\u001b[39m.\u001b[39mrun(query, params)\n\u001b[1;32m     57\u001b[0m     \u001b[39mexcept\u001b[39;00m \u001b[39mException\u001b[39;00m \u001b[39mas\u001b[39;00m e:\n\u001b[1;32m     58\u001b[0m         \u001b[39mif\u001b[39;00m custom_error:\n",
      "File \u001b[0;32m~/miniconda3/envs/rnalab/lib/python3.11/site-packages/neo4j/_sync/work/session.py:289\u001b[0m, in \u001b[0;36mSession.run\u001b[0;34m(self, query, parameters, **kwargs)\u001b[0m\n\u001b[1;32m    287\u001b[0m bookmarks \u001b[39m=\u001b[39m \u001b[39mself\u001b[39m\u001b[39m.\u001b[39m_get_bookmarks()\n\u001b[1;32m    288\u001b[0m parameters \u001b[39m=\u001b[39m \u001b[39mdict\u001b[39m(parameters \u001b[39mor\u001b[39;00m {}, \u001b[39m*\u001b[39m\u001b[39m*\u001b[39mkwargs)\n\u001b[0;32m--> 289\u001b[0m \u001b[39mself\u001b[39m\u001b[39m.\u001b[39m_auto_result\u001b[39m.\u001b[39m_run(\n\u001b[1;32m    290\u001b[0m     query, parameters, \u001b[39mself\u001b[39m\u001b[39m.\u001b[39m_config\u001b[39m.\u001b[39mdatabase,\n\u001b[1;32m    291\u001b[0m     \u001b[39mself\u001b[39m\u001b[39m.\u001b[39m_config\u001b[39m.\u001b[39mimpersonated_user, \u001b[39mself\u001b[39m\u001b[39m.\u001b[39m_config\u001b[39m.\u001b[39mdefault_access_mode,\n\u001b[1;32m    292\u001b[0m     bookmarks, \u001b[39mself\u001b[39m\u001b[39m.\u001b[39m_config\u001b[39m.\u001b[39mnotifications_min_severity,\n\u001b[1;32m    293\u001b[0m     \u001b[39mself\u001b[39m\u001b[39m.\u001b[39m_config\u001b[39m.\u001b[39mnotifications_disabled_categories,\n\u001b[1;32m    294\u001b[0m )\n\u001b[1;32m    296\u001b[0m \u001b[39mreturn\u001b[39;00m \u001b[39mself\u001b[39m\u001b[39m.\u001b[39m_auto_result\n",
      "File \u001b[0;32m~/miniconda3/envs/rnalab/lib/python3.11/site-packages/neo4j/_sync/work/result.py:170\u001b[0m, in \u001b[0;36mResult._run\u001b[0;34m(self, query, parameters, db, imp_user, access_mode, bookmarks, notifications_min_severity, notifications_disabled_categories)\u001b[0m\n\u001b[1;32m    168\u001b[0m \u001b[39mself\u001b[39m\u001b[39m.\u001b[39m_pull()\n\u001b[1;32m    169\u001b[0m \u001b[39mself\u001b[39m\u001b[39m.\u001b[39m_connection\u001b[39m.\u001b[39msend_all()\n\u001b[0;32m--> 170\u001b[0m \u001b[39mself\u001b[39m\u001b[39m.\u001b[39m_attach()\n",
      "File \u001b[0;32m~/miniconda3/envs/rnalab/lib/python3.11/site-packages/neo4j/_sync/work/result.py:278\u001b[0m, in \u001b[0;36mResult._attach\u001b[0;34m(self)\u001b[0m\n\u001b[1;32m    276\u001b[0m \u001b[39mif\u001b[39;00m \u001b[39mself\u001b[39m\u001b[39m.\u001b[39m_exhausted \u001b[39mis\u001b[39;00m \u001b[39mFalse\u001b[39;00m:\n\u001b[1;32m    277\u001b[0m     \u001b[39mwhile\u001b[39;00m \u001b[39mself\u001b[39m\u001b[39m.\u001b[39m_attached \u001b[39mis\u001b[39;00m \u001b[39mFalse\u001b[39;00m:\n\u001b[0;32m--> 278\u001b[0m         \u001b[39mself\u001b[39m\u001b[39m.\u001b[39m_connection\u001b[39m.\u001b[39mfetch_message()\n",
      "File \u001b[0;32m~/miniconda3/envs/rnalab/lib/python3.11/site-packages/neo4j/_sync/io/_common.py:172\u001b[0m, in \u001b[0;36mConnectionErrorHandler.__getattr__\u001b[0;34m(self, name)\u001b[0m\n\u001b[1;32m    169\u001b[0m     \u001b[39mself\u001b[39m\u001b[39m.\u001b[39m__connection \u001b[39m=\u001b[39m connection\n\u001b[1;32m    170\u001b[0m     \u001b[39mself\u001b[39m\u001b[39m.\u001b[39m__on_error \u001b[39m=\u001b[39m on_error\n\u001b[0;32m--> 172\u001b[0m \u001b[39mdef\u001b[39;00m \u001b[39m__getattr__\u001b[39m(\u001b[39mself\u001b[39m, name):\n\u001b[1;32m    173\u001b[0m     connection_attr \u001b[39m=\u001b[39m \u001b[39mgetattr\u001b[39m(\u001b[39mself\u001b[39m\u001b[39m.\u001b[39m__connection, name)\n\u001b[1;32m    174\u001b[0m     \u001b[39mif\u001b[39;00m \u001b[39mnot\u001b[39;00m \u001b[39mcallable\u001b[39m(connection_attr):\n",
      "\u001b[0;31mKeyboardInterrupt\u001b[0m: "
     ]
    }
   ],
   "source": [
    "gds.alpha.graph.construct(\n",
    "    graph_name=graph_name,\n",
    "    nodes=nodes,\n",
    "    relationships=relationships,\n",
    "    concurrency=40,\n",
    "    undirected_relationship_types=undirected_relationship_types,\n",
    ")"
   ]
  },
  {
   "cell_type": "code",
   "execution_count": 13,
   "metadata": {},
   "outputs": [
    {
     "ename": "KeyboardInterrupt",
     "evalue": "",
     "output_type": "error",
     "traceback": [
      "\u001b[0;31m---------------------------------------------------------------------------\u001b[0m",
      "\u001b[0;31mKeyboardInterrupt\u001b[0m                         Traceback (most recent call last)",
      "Cell \u001b[0;32mIn[13], line 1\u001b[0m\n\u001b[0;32m----> 1\u001b[0m result \u001b[39m=\u001b[39m gds\u001b[39m.\u001b[39mgraph\u001b[39m.\u001b[39mproject\u001b[39m.\u001b[39mestimate(\n\u001b[1;32m      2\u001b[0m     \u001b[39m'\u001b[39m\u001b[39m*\u001b[39m\u001b[39m'\u001b[39m,\n\u001b[1;32m      3\u001b[0m     \u001b[39m'\u001b[39m\u001b[39m*\u001b[39m\u001b[39m'\u001b[39m,\n\u001b[1;32m      4\u001b[0m )\n\u001b[1;32m      6\u001b[0m \u001b[39mprint\u001b[39m(result)\n\u001b[1;32m      7\u001b[0m \u001b[39mprint\u001b[39m(result[\u001b[39m'\u001b[39m\u001b[39mrequiredMemory\u001b[39m\u001b[39m'\u001b[39m])\n",
      "File \u001b[0;32m~/miniconda3/envs/rnalab/lib/python3.11/site-packages/graphdatascience/graph/graph_project_runner.py:27\u001b[0m, in \u001b[0;36mGraphProjectRunner.estimate\u001b[0;34m(self, node_projection, relationship_projection, **config)\u001b[0m\n\u001b[1;32m     25\u001b[0m \u001b[39mdef\u001b[39;00m \u001b[39mestimate\u001b[39m(\u001b[39mself\u001b[39m, node_projection: Any, relationship_projection: Any, \u001b[39m*\u001b[39m\u001b[39m*\u001b[39mconfig: Any) \u001b[39m-\u001b[39m\u001b[39m>\u001b[39m \u001b[39m\"\u001b[39m\u001b[39mSeries[Any]\u001b[39m\u001b[39m\"\u001b[39m:\n\u001b[1;32m     26\u001b[0m     \u001b[39mself\u001b[39m\u001b[39m.\u001b[39m_namespace \u001b[39m+\u001b[39m\u001b[39m=\u001b[39m \u001b[39m\"\u001b[39m\u001b[39m.estimate\u001b[39m\u001b[39m\"\u001b[39m\n\u001b[0;32m---> 27\u001b[0m     result \u001b[39m=\u001b[39m \u001b[39mself\u001b[39m\u001b[39m.\u001b[39m_query_runner\u001b[39m.\u001b[39mrun_query(\n\u001b[1;32m     28\u001b[0m         \u001b[39mf\u001b[39m\u001b[39m\"\u001b[39m\u001b[39mCALL \u001b[39m\u001b[39m{\u001b[39;00m\u001b[39mself\u001b[39m\u001b[39m.\u001b[39m_namespace\u001b[39m}\u001b[39;00m\u001b[39m($node_spec, $relationship_spec, $config)\u001b[39m\u001b[39m\"\u001b[39m,\n\u001b[1;32m     29\u001b[0m         {\n\u001b[1;32m     30\u001b[0m             \u001b[39m\"\u001b[39m\u001b[39mnode_spec\u001b[39m\u001b[39m\"\u001b[39m: node_projection,\n\u001b[1;32m     31\u001b[0m             \u001b[39m\"\u001b[39m\u001b[39mrelationship_spec\u001b[39m\u001b[39m\"\u001b[39m: relationship_projection,\n\u001b[1;32m     32\u001b[0m             \u001b[39m\"\u001b[39m\u001b[39mconfig\u001b[39m\u001b[39m\"\u001b[39m: config,\n\u001b[1;32m     33\u001b[0m         },\n\u001b[1;32m     34\u001b[0m     )\n\u001b[1;32m     36\u001b[0m     \u001b[39mreturn\u001b[39;00m result\u001b[39m.\u001b[39msqueeze()\n",
      "File \u001b[0;32m~/miniconda3/envs/rnalab/lib/python3.11/site-packages/graphdatascience/query_runner/neo4j_query_runner.py:56\u001b[0m, in \u001b[0;36mNeo4jQueryRunner.run_query\u001b[0;34m(self, query, params, database, custom_error)\u001b[0m\n\u001b[1;32m     54\u001b[0m \u001b[39mwith\u001b[39;00m \u001b[39mself\u001b[39m\u001b[39m.\u001b[39m_driver\u001b[39m.\u001b[39msession(database\u001b[39m=\u001b[39mdatabase, bookmarks\u001b[39m=\u001b[39m\u001b[39mself\u001b[39m\u001b[39m.\u001b[39mbookmarks()) \u001b[39mas\u001b[39;00m session:\n\u001b[1;32m     55\u001b[0m     \u001b[39mtry\u001b[39;00m:\n\u001b[0;32m---> 56\u001b[0m         result \u001b[39m=\u001b[39m session\u001b[39m.\u001b[39mrun(query, params)\n\u001b[1;32m     57\u001b[0m     \u001b[39mexcept\u001b[39;00m \u001b[39mException\u001b[39;00m \u001b[39mas\u001b[39;00m e:\n\u001b[1;32m     58\u001b[0m         \u001b[39mif\u001b[39;00m custom_error:\n",
      "File \u001b[0;32m~/miniconda3/envs/rnalab/lib/python3.11/site-packages/neo4j/_sync/work/session.py:289\u001b[0m, in \u001b[0;36mSession.run\u001b[0;34m(self, query, parameters, **kwargs)\u001b[0m\n\u001b[1;32m    287\u001b[0m bookmarks \u001b[39m=\u001b[39m \u001b[39mself\u001b[39m\u001b[39m.\u001b[39m_get_bookmarks()\n\u001b[1;32m    288\u001b[0m parameters \u001b[39m=\u001b[39m \u001b[39mdict\u001b[39m(parameters \u001b[39mor\u001b[39;00m {}, \u001b[39m*\u001b[39m\u001b[39m*\u001b[39mkwargs)\n\u001b[0;32m--> 289\u001b[0m \u001b[39mself\u001b[39m\u001b[39m.\u001b[39m_auto_result\u001b[39m.\u001b[39m_run(\n\u001b[1;32m    290\u001b[0m     query, parameters, \u001b[39mself\u001b[39m\u001b[39m.\u001b[39m_config\u001b[39m.\u001b[39mdatabase,\n\u001b[1;32m    291\u001b[0m     \u001b[39mself\u001b[39m\u001b[39m.\u001b[39m_config\u001b[39m.\u001b[39mimpersonated_user, \u001b[39mself\u001b[39m\u001b[39m.\u001b[39m_config\u001b[39m.\u001b[39mdefault_access_mode,\n\u001b[1;32m    292\u001b[0m     bookmarks, \u001b[39mself\u001b[39m\u001b[39m.\u001b[39m_config\u001b[39m.\u001b[39mnotifications_min_severity,\n\u001b[1;32m    293\u001b[0m     \u001b[39mself\u001b[39m\u001b[39m.\u001b[39m_config\u001b[39m.\u001b[39mnotifications_disabled_categories,\n\u001b[1;32m    294\u001b[0m )\n\u001b[1;32m    296\u001b[0m \u001b[39mreturn\u001b[39;00m \u001b[39mself\u001b[39m\u001b[39m.\u001b[39m_auto_result\n",
      "File \u001b[0;32m~/miniconda3/envs/rnalab/lib/python3.11/site-packages/neo4j/_sync/work/result.py:170\u001b[0m, in \u001b[0;36mResult._run\u001b[0;34m(self, query, parameters, db, imp_user, access_mode, bookmarks, notifications_min_severity, notifications_disabled_categories)\u001b[0m\n\u001b[1;32m    168\u001b[0m \u001b[39mself\u001b[39m\u001b[39m.\u001b[39m_pull()\n\u001b[1;32m    169\u001b[0m \u001b[39mself\u001b[39m\u001b[39m.\u001b[39m_connection\u001b[39m.\u001b[39msend_all()\n\u001b[0;32m--> 170\u001b[0m \u001b[39mself\u001b[39m\u001b[39m.\u001b[39m_attach()\n",
      "File \u001b[0;32m~/miniconda3/envs/rnalab/lib/python3.11/site-packages/neo4j/_sync/work/result.py:278\u001b[0m, in \u001b[0;36mResult._attach\u001b[0;34m(self)\u001b[0m\n\u001b[1;32m    276\u001b[0m \u001b[39mif\u001b[39;00m \u001b[39mself\u001b[39m\u001b[39m.\u001b[39m_exhausted \u001b[39mis\u001b[39;00m \u001b[39mFalse\u001b[39;00m:\n\u001b[1;32m    277\u001b[0m     \u001b[39mwhile\u001b[39;00m \u001b[39mself\u001b[39m\u001b[39m.\u001b[39m_attached \u001b[39mis\u001b[39;00m \u001b[39mFalse\u001b[39;00m:\n\u001b[0;32m--> 278\u001b[0m         \u001b[39mself\u001b[39m\u001b[39m.\u001b[39m_connection\u001b[39m.\u001b[39mfetch_message()\n",
      "File \u001b[0;32m~/miniconda3/envs/rnalab/lib/python3.11/site-packages/neo4j/_sync/io/_common.py:197\u001b[0m, in \u001b[0;36mConnectionErrorHandler.__getattr__\u001b[0;34m(self, name)\u001b[0m\n\u001b[1;32m    194\u001b[0m             \u001b[39mraise\u001b[39;00m\n\u001b[1;32m    195\u001b[0m     \u001b[39mreturn\u001b[39;00m inner\n\u001b[0;32m--> 197\u001b[0m \u001b[39mif\u001b[39;00m asyncio\u001b[39m.\u001b[39miscoroutinefunction(connection_attr):\n\u001b[1;32m    198\u001b[0m     \u001b[39mreturn\u001b[39;00m outer_async(connection_attr)\n\u001b[1;32m    199\u001b[0m \u001b[39mreturn\u001b[39;00m outer(connection_attr)\n",
      "File \u001b[0;32m~/miniconda3/envs/rnalab/lib/python3.11/asyncio/coroutines.py:23\u001b[0m, in \u001b[0;36miscoroutinefunction\u001b[0;34m(func)\u001b[0m\n\u001b[1;32m     21\u001b[0m \u001b[39mdef\u001b[39;00m \u001b[39miscoroutinefunction\u001b[39m(func):\n\u001b[1;32m     22\u001b[0m \u001b[39m    \u001b[39m\u001b[39m\"\"\"Return True if func is a decorated coroutine function.\"\"\"\u001b[39;00m\n\u001b[0;32m---> 23\u001b[0m     \u001b[39mreturn\u001b[39;00m (inspect\u001b[39m.\u001b[39miscoroutinefunction(func) \u001b[39mor\u001b[39;00m\n\u001b[1;32m     24\u001b[0m             \u001b[39mgetattr\u001b[39m(func, \u001b[39m'\u001b[39m\u001b[39m_is_coroutine\u001b[39m\u001b[39m'\u001b[39m, \u001b[39mNone\u001b[39;00m) \u001b[39mis\u001b[39;00m _is_coroutine)\n",
      "File \u001b[0;32m~/miniconda3/envs/rnalab/lib/python3.11/inspect.py:409\u001b[0m, in \u001b[0;36miscoroutinefunction\u001b[0;34m(obj)\u001b[0m\n\u001b[1;32m    403\u001b[0m \u001b[39m    \u001b[39m\u001b[39m\"\"\"Return true if the object is a user-defined generator function.\u001b[39;00m\n\u001b[1;32m    404\u001b[0m \n\u001b[1;32m    405\u001b[0m \u001b[39m    Generator function objects provide the same attributes as functions.\u001b[39;00m\n\u001b[1;32m    406\u001b[0m \u001b[39m    See help(isfunction) for a list of attributes.\"\"\"\u001b[39;00m\n\u001b[1;32m    407\u001b[0m     \u001b[39mreturn\u001b[39;00m _has_code_flag(obj, CO_GENERATOR)\n\u001b[0;32m--> 409\u001b[0m \u001b[39mdef\u001b[39;00m \u001b[39miscoroutinefunction\u001b[39m(obj):\n\u001b[1;32m    410\u001b[0m \u001b[39m    \u001b[39m\u001b[39m\"\"\"Return true if the object is a coroutine function.\u001b[39;00m\n\u001b[1;32m    411\u001b[0m \n\u001b[1;32m    412\u001b[0m \u001b[39m    Coroutine functions are defined with \"async def\" syntax.\u001b[39;00m\n\u001b[1;32m    413\u001b[0m \u001b[39m    \"\"\"\u001b[39;00m\n\u001b[1;32m    414\u001b[0m     \u001b[39mreturn\u001b[39;00m _has_code_flag(obj, CO_COROUTINE)\n",
      "\u001b[0;31mKeyboardInterrupt\u001b[0m: "
     ]
    }
   ],
   "source": [
    "result = gds.graph.project.estimate(\n",
    "    '*',\n",
    "    '*',\n",
    ")\n",
    "\n",
    "print(result)\n",
    "print(result['requiredMemory'])"
   ]
  }
 ],
 "metadata": {
  "kernelspec": {
   "display_name": "rnalab-kernel",
   "language": "python",
   "name": "rnalab-kernel"
  },
  "language_info": {
   "codemirror_mode": {
    "name": "ipython",
    "version": 3
   },
   "file_extension": ".py",
   "mimetype": "text/x-python",
   "name": "python",
   "nbconvert_exporter": "python",
   "pygments_lexer": "ipython3",
   "version": "3.11.5"
  },
  "orig_nbformat": 4,
  "vscode": {
   "interpreter": {
    "hash": "448a416c49845ffbddc886562179757704d684dae284cc536cfa1eca10a7a7d0"
   }
  }
 },
 "nbformat": 4,
 "nbformat_minor": 2
}
