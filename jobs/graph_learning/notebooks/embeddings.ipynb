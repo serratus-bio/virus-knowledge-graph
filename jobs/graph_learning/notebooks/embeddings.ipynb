{
 "cells": [
  {
   "cell_type": "code",
   "execution_count": 1,
   "metadata": {},
   "outputs": [
    {
     "name": "stderr",
     "output_type": "stream",
     "text": [
      "/home/ec2-user/miniconda3/envs/rnalab/lib/python3.11/site-packages/tqdm/auto.py:21: TqdmWarning: IProgress not found. Please update jupyter and ipywidgets. See https://ipywidgets.readthedocs.io/en/stable/user_install.html\n",
      "  from .autonotebook import tqdm as notebook_tqdm\n"
     ]
    }
   ],
   "source": [
    "# Imports and config for the notebook\n",
    "\n",
    "## Notebook config\n",
    "import sys\n",
    "if '../' not in sys.path:\n",
    "    sys.path.append(\"../\")\n",
    "%load_ext dotenv\n",
    "%reload_ext dotenv\n",
    "%dotenv\n",
    "\n",
    "import collections\n",
    "import os\n",
    "import csv\n",
    "\n",
    "import pandas as pd\n",
    "import numpy as np\n",
    "import matplotlib.pyplot as plt\n",
    "import graphistry\n",
    "\n",
    "from datasources.neo4j import gds\n",
    "from queries import utils"
   ]
  },
  {
   "cell_type": "code",
   "execution_count": 2,
   "metadata": {},
   "outputs": [
    {
     "name": "stdout",
     "output_type": "stream",
     "text": [
      "<graphdatascience.graph_data_science.GraphDataScience object at 0x7f4a12cb81d0>\n"
     ]
    }
   ],
   "source": [
    "# Configs\n",
    "\n",
    "# graphistry.register(\n",
    "#     api=3,\n",
    "#     username=os.getenv('GRAPHISTRY_USERNAME'),\n",
    "#     password=os.getenv('GRAPHISTRY_PASSWORD'),\n",
    "# )\n",
    "\n",
    "RANDOM_SEED = 42\n",
    "EMBEDDINGS_DIR = '/mnt/embeddings/'\n",
    "\n",
    "print(gds)"
   ]
  },
  {
   "attachments": {},
   "cell_type": "markdown",
   "metadata": {},
   "source": [
    "TODO:\n",
    "\n",
    "\n",
    "- Create Tissue projection (random generate initial embeddings)\n",
    "- Create Taxon projection (use rank as initial feature?)\n",
    "\n",
    "- Create heterogenous projection from dataset?\n",
    "- run memory estimates for hashgnn and fastRP using hetero projection and \n",
    "\n",
    "\n",
    "- HashGNN_homogenous, HashGNN_heterogenous\n",
    "- FastRP_homogenous, FastRP_heterogenous"
   ]
  },
  {
   "cell_type": "code",
   "execution_count": 13,
   "metadata": {},
   "outputs": [],
   "source": [
    "TAXON_PROJECTION_NAME = 'taxon-graph'\n",
    "TISSUE_PROJECTION_NAME = 'tissue-graph'\n",
    "HOMOGENOUS_PROJECTION_NAME = 'homogenous-graph'\n",
    "HETERO_PROJECTION_NAME = 'hetero-graph'\n"
   ]
  },
  {
   "cell_type": "code",
   "execution_count": 14,
   "metadata": {},
   "outputs": [],
   "source": [
    "\n",
    "def get_homogenous_projection():\n",
    "    projection = gds.graph.project(\n",
    "        graph_name=HOMOGENOUS_PROJECTION_NAME,\n",
    "        node_spec=[\n",
    "            'Taxon',\n",
    "            'Tissue',\n",
    "            'SOTU',\n",
    "        ],\n",
    "        relationship_spec={\n",
    "            'HAS_PARENT': {'orientation': 'UNDIRECTED'},\n",
    "            'SEQUENCE_ALIGNMENT': {'orientation': 'UNDIRECTED'},\n",
    "        },\n",
    "    )\n",
    "    return projection\n",
    "\n",
    "\n",
    "# TODO: Use dataset projection\n",
    "def get_heterogenous_projection():\n",
    "    projection = gds.graph.project(\n",
    "        graph_name=HETERO_PROJECTION_NAME,\n",
    "        node_spec=[\n",
    "            'Taxon',\n",
    "            'Tissue',\n",
    "            'SOTU',\n",
    "        ],\n",
    "        relationship_spec={\n",
    "            'HAS_PARENT': {'orientation': 'UNDIRECTED'},\n",
    "            'SEQUENCE_ALIGNMENT': {'orientation': 'UNDIRECTED'},\n",
    "        },\n",
    "    )\n",
    "    return projection\n",
    "\n",
    "\n",
    "def get_taxon_projection():\n",
    "    projection = gds.graph.project(\n",
    "        graph_name=TAXON_PROJECTION_NAME,\n",
    "        node_spec=[\n",
    "            'Taxon',\n",
    "        ],\n",
    "        relationship_spec={\n",
    "            'HAS_PARENT': {'orientation': 'UNDIRECTED'},\n",
    "        },\n",
    "    )\n",
    "    return projection\n",
    "\n",
    "def get_tissue_projection():\n",
    "    projection = gds.graph.project(\n",
    "        graph_name=TISSUE_PROJECTION_NAME,\n",
    "        node_spec=['Tissue'],\n",
    "        relationship_spec={\n",
    "            'HAS_PARENT': {'orientation': 'UNDIRECTED'},\n",
    "        },\n",
    "    )\n",
    "    return projection\n"
   ]
  },
  {
   "cell_type": "code",
   "execution_count": 15,
   "metadata": {},
   "outputs": [],
   "source": [
    "projection = get_homogenous_projection()"
   ]
  },
  {
   "cell_type": "code",
   "execution_count": 18,
   "metadata": {},
   "outputs": [
    {
     "data": {
      "text/plain": [
       "requiredMemory                                [1338 MiB ... 12865 MiB]\n",
       "treeView             Memory Estimation: [1338 MiB ... 12865 MiB]\\n|...\n",
       "mapView              {'memoryUsage': '[1338 MiB ... 12865 MiB]', 'n...\n",
       "bytesMin                                                    1403659432\n",
       "bytesMax                                                   13490131432\n",
       "nodeCount                                                      3021618\n",
       "relationshipCount                                             57702540\n",
       "heapPercentageMin                                                  0.1\n",
       "heapPercentageMax                                                  0.6\n",
       "Name: 0, dtype: object"
      ]
     },
     "execution_count": 18,
     "metadata": {},
     "output_type": "execute_result"
    }
   ],
   "source": [
    "# https://neo4j.com/docs/graph-data-science/current/machine-learning/node-embeddings/hashgnn/#algorithms-embeddings-hashgnn-syntax\n",
    "# https://github.com/neo4j/graph-data-science-client/blob/main/examples/heterogeneous-node-classification-with-hashgnn.ipynb#L18\n",
    "\n",
    "# one may try to set embeddingDensity to 128, 256, 512, or roughly 25%-50% of the embedding dimension, i.e. the number of binary features.\n",
    "\n",
    "gds.hashgnn.stream.estimate(\n",
    "    G=gds.graph.get(HOMOGENOUS_PROJECTION_NAME),\n",
    "    nodeLabels=['Taxon', 'Tissue', 'SOTU'],\n",
    "    relationshipTypes=['HAS_PARENT', 'SEQUENCE_ALIGNMENT'],\n",
    "    randomSeed=RANDOM_SEED,\n",
    "    generateFeatures={\n",
    "        'dimension': 512, # dimension of the embedding vector\n",
    "        'densityLevel': 2, # number of initial values equalling 1\n",
    "    },\n",
    "    iterations=10, # maximum number of hops\n",
    "    embeddingDensity=256,\n",
    "    neighborInfluence=1.0,\n",
    ")"
   ]
  },
  {
   "cell_type": "code",
   "execution_count": 20,
   "metadata": {},
   "outputs": [
    {
     "name": "stderr",
     "output_type": "stream",
     "text": [
      "HashGNN:  48%|████▊     | 47.58/100 [1:53:11<2:18:41, 158.75s/%]"
     ]
    }
   ],
   "source": [
    "filename = 'HashGNN_homogenous.csv'\n",
    "df = gds.hashgnn.stream(\n",
    "    G=gds.graph.get(HOMOGENOUS_PROJECTION_NAME),\n",
    "    nodeLabels=['Taxon', 'Tissue', 'SOTU'],\n",
    "    relationshipTypes=['HAS_PARENT', 'SEQUENCE_ALIGNMENT'],\n",
    "    randomSeed=RANDOM_SEED,\n",
    "    generateFeatures={\n",
    "        'dimension': 512, # dimension of the embedding vector\n",
    "        'densityLevel': 2, # number of initial values equalling 1\n",
    "    },\n",
    "    iterations=10, # maximum number of hops\n",
    "    embeddingDensity=256,\n",
    "    neighborInfluence=1.0,\n",
    ")\n",
    "\n",
    "df.to_csv(EMBEDDING_DIR + filename, index=False)"
   ]
  },
  {
   "cell_type": "code",
   "execution_count": null,
   "metadata": {},
   "outputs": [],
   "source": [
    "gds.fastrp.stream.estimate(\n",
    "    G=gds.graph.get(HOMOGENOUS_PROJECTION_NAME),\n",
    "    nodeLabels=['Taxon', 'Tissue', 'SOTU'],\n",
    "    relationshipTypes=['HAS_PARENT', 'SEQUENCE_ALIGNMENT'],\n",
    "    randomSeed=RANDOM_SEED,\n",
    "    embeddingDimension=256,\n",
    "    relationshipWeightProperty=\"weight\",\n",
    ")"
   ]
  },
  {
   "cell_type": "code",
   "execution_count": null,
   "metadata": {},
   "outputs": [],
   "source": [
    "filename = 'FastRP_homogenous.csv'\n",
    "df = gds.fastrp.stream(\n",
    "    G=gds.graph.get(HOMOGENOUS_PROJECTION_NAME),\n",
    "    nodeLabels=['Taxon', 'Tissue', 'SOTU'],\n",
    "    relationshipTypes=['HAS_PARENT', 'SEQUENCE_ALIGNMENT'],\n",
    "    randomSeed=RANDOM_SEED,\n",
    "    embeddingDimension=256,\n",
    "    relationshipWeightProperty='weight',\n",
    ")\n",
    "df.to_csv(EMBEDDING_DIR + filename, index=False)"
   ]
  }
 ],
 "metadata": {
  "kernelspec": {
   "display_name": "rnalab-kernel",
   "language": "python",
   "name": "rnalab-kernel"
  },
  "orig_nbformat": 4,
  "vscode": {
   "interpreter": {
    "hash": "448a416c49845ffbddc886562179757704d684dae284cc536cfa1eca10a7a7d0"
   }
  }
 },
 "nbformat": 4,
 "nbformat_minor": 2
}
