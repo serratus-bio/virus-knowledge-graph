{
 "cells": [
  {
   "attachments": {},
   "cell_type": "markdown",
   "metadata": {},
   "source": [
    "## True Class Ratio\n",
    "\n",
    "### References:\n",
    "- This is notebook is mostly a rewording of info from [Neo4j docs on Class Imbalance](https://neo4j.com/docs/graph-data-science/current/machine-learning/linkprediction-pipelines/theory/)\n",
    "\n",
    "\n",
    "### Negative samples in training and precision-recall in evaluation\n",
    "\n",
    "- Link prediction on graphs usually has a *class imbalance problem* because there are substantially less relationships or edges (postive examples) than missing edges (negative examples)\n",
    "- To account for this, a training loader exposes the model to positive and negative samples at 1-1 ratio by default\n",
    "- Moreover, the AUC-PR (area under precision-recall curve) metric evaluates precision according to the positive and negative classes (see [img](https://en.wikipedia.org/wiki/Precision_and_recall))\n",
    "- During training we can tune the negative sample ratio (`negativeSampleRatio`)\n",
    "- During validation we can tune the weight of false positives when computing precision (`negativeClassWeight`)\n",
    "- Note: increasing negative samples will increase training time, while increasing class weigh improves eval accuracy. Both of these parameters can be adjusted in tandem to trade off evaluation accuracy with speed.\n",
    "\n",
    "### Bias in dataset\n",
    "\n",
    "- There are likely several sampling biases present in our dataset, i.e. impact on humans, sampling preferences for certain geographies, preferences to sample certain taxons, etc.\n",
    "- To deal with this, we can consider resampling methods: oversample the minority classes or undersample the majority classes\n",
    "- Oversampling methods:\n",
    "    - Network Imputation: substituting missing data with values according to some criteria (density, degree distribution)\n",
    "    - Synthetic Minority Over-sampling Technique (SMOTE)\n",
    "    - GANs for generating synthetic samples \n",
    "- Undersampling methods:\n",
    "    - Random walks with restarts to undersample majority classes and create uniform distribution\n",
    "\n",
    "### Tuning true class ratio using existing bias\n",
    "\n",
    "- Given the ability for our training loader to control the positive-negative ratio, we may not need to resolve the bias in the dataset but can tune the positive-negative sample ratio our model is trained on as well as tune the precision of AUC-PR eval metric by re-weighting false positives\n",
    "- Unfortunately, we don't know the desired ratio of total probability mass of negative versus positive examples. That is, under perfect sampling, we don't know what the expected number of virus-host associations nor the total number of viruses.\n",
    "- This notebook attempts to approximate this value using humans since they are a majority class. We do this by computing the true-class ratio: `(q - r) / r` where `q` is the number of possible undirected relationships and `r` is the number of actual undirected relationships.\n",
    "- There are likely many assumptions with this approach, but it seems worthwhile to try it out. After training a model, I will begin interpreting the top-k predictions per palmprint using visualizations\n"
   ]
  },
  {
   "cell_type": "code",
   "execution_count": 19,
   "metadata": {},
   "outputs": [
    {
     "name": "stdout",
     "output_type": "stream",
     "text": [
      "The dotenv extension is already loaded. To reload it, use:\n",
      "  %reload_ext dotenv\n"
     ]
    }
   ],
   "source": [
    "# Notebook config\n",
    "import sys\n",
    "if '../' not in sys.path:\n",
    "    sys.path.append(\"../\")\n",
    "%load_ext dotenv\n",
    "%dotenv\n",
    "\n",
    "# Actual imports\n",
    "from queries import gds_queries"
   ]
  },
  {
   "cell_type": "code",
   "execution_count": 15,
   "metadata": {},
   "outputs": [
    {
     "name": "stdout",
     "output_type": "stream",
     "text": [
      "937845\n"
     ]
    }
   ],
   "source": [
    "# count viral palmprints using potential taxon values\n",
    "total_viral_palmprints_count = gds_queries.run_query('''\n",
    "    MATCH (p:Palmprint)-[r:HAS_POTENTIAL_TAXON]->(t:Taxon)\n",
    "    WHERE t.taxKingdom = 'Viruses'\n",
    "    RETURN COUNT(p) as count\n",
    "''')['count'][0]\n",
    "print(total_viral_palmprints_count)"
   ]
  },
  {
   "cell_type": "code",
   "execution_count": 16,
   "metadata": {},
   "outputs": [
    {
     "name": "stdout",
     "output_type": "stream",
     "text": [
      "399996\n"
     ]
    }
   ],
   "source": [
    "# count number of viral palmprint associations to humans (taxId: 9606)\n",
    "human_assoc_viral_palmprints_count = gds_queries.run_query('''\n",
    "    MATCH (s:Palmprint)<-[:HAS_PALMPRINT]-(:SRA)-[:HAS_HOST]->(t:Taxon)\n",
    "    WHERE ((t)-[:HAS_PARENT*]->(:Taxon {taxId: '9606'})\n",
    "    OR t.taxId = '9606')\n",
    "    AND s.taxKingdom = 'Viruses'\n",
    "    RETURN COUNT(s) as count\n",
    "''')['count'][0]\n",
    "print(human_assoc_viral_palmprints_count)"
   ]
  },
  {
   "cell_type": "code",
   "execution_count": 18,
   "metadata": {},
   "outputs": [
    {
     "name": "stdout",
     "output_type": "stream",
     "text": [
      "1.3446359463594635\n"
     ]
    }
   ],
   "source": [
    "true_class_ratio = (total_viral_palmprints_count - human_assoc_viral_palmprints_count) / human_assoc_viral_palmprints_count\n",
    "print(true_class_ratio)"
   ]
  },
  {
   "cell_type": "code",
   "execution_count": 29,
   "metadata": {},
   "outputs": [
    {
     "name": "stdout",
     "output_type": "stream",
     "text": [
      "\n",
      "eval.csv\n",
      "\n",
      "0\n",
      "\"{'modelCandidates': [{'metrics': {'AUCPR': {'validation': {'avg': 0.2855628751695121, 'min': 0.2841136484768501, 'max': 0.2866516512101441}, 'train': {'avg': 0.2855612414795886, 'min': 0.2854407327576802, 'max': 0.28572274813292087}}}, 'parameters': {'maxEpochs': 100, 'minEpochs': 1, 'classWeights': [], 'penalty': 1.0, 'patience': 2, 'methodName': 'MultilayerPerceptron', 'focusWeight': 0.0, 'hiddenLayerSizes': [64, 16, 4], 'batchSize': 100, 'tolerance': 0.001, 'learningRate': 0.001}}, {'metrics': {'AUCPR': {'validation': {'avg': 0.7318097434484135, 'min': 0.7309953050924338, 'max': 0.7329281574676022}, 'train': {'avg': 0.7318139688407923, 'min': 0.7316862942169846, 'max': 0.7319015512869126}}}, 'parameters': {'maxEpochs': 100, 'minEpochs': 1, 'classWeights': [], 'penalty': 0.16145378017027948, 'patience': 1, 'methodName': 'LogisticRegression', 'focusWeight': 0.0, 'batchSize': 100, 'tolerance': 0.001, 'learningRate': 0.001}}, {'metrics': {'AUCPR': {'validation': {'avg': 0.7318097434484135, 'min': 0.7309953050924338, 'max': 0.7329281574676022}, 'train': {'avg': 0.7318139688407923, 'min': 0.7316862942169846, 'max': 0.7319015512869126}}}, 'parameters': {'maxEpochs': 100, 'minEpochs': 1, 'classWeights': [], 'penalty': 0.2804157781523863, 'patience': 1, 'methodName': 'LogisticRegression', 'focusWeight': 0.0, 'batchSize': 100, 'tolerance': 0.001, 'learningRate': 0.001}}, {'metrics': {'OUT_OF_BAG_ERROR': {'validation': {'avg': 0.38226910987090257, 'min': 0.3793603234921563, 'max': 0.38410889629956224}}, 'AUCPR': {'validation': {'avg': 0.7318557148823687, 'min': 0.7309705041230685, 'max': 0.7329525562750779}, 'train': {'avg': 0.7318685851048619, 'min': 0.731733965471959, 'max': 0.7319308830099135}}}, 'parameters': {'maxDepth': 6, 'minLeafSize': 1, 'criterion': 'GINI', 'minSplitSize': 2, 'numberOfDecisionTrees': 100, 'methodName': 'RandomForest', 'numberOfSamplesRatio': 1.0}}, {'metrics': {'AUCPR': {'validation': {'avg': 0.7318097434484135, 'min': 0.7309953050924338, 'max': 0.7329281574676022}, 'train': {'avg': 0.7318139688407923, 'min': 0.7316862942169846, 'max': 0.7319015512869126}}}, 'parameters': {'maxEpochs': 100, 'minEpochs': 1, 'classWeights': [], 'penalty': 1.1006420147422171, 'patience': 1, 'methodName': 'LogisticRegression', 'focusWeight': 0.0, 'batchSize': 100, 'tolerance': 0.001, 'learningRate': 0.001}}, {'metrics': {'OUT_OF_BAG_ERROR': {'validation': {'avg': 0.38226910987090257, 'min': 0.3793603234921563, 'max': 0.38410889629956224}}, 'AUCPR': {'validation': {'avg': 0.7318557148823687, 'min': 0.7309705041230685, 'max': 0.7329525562750779}, 'train': {'avg': 0.7318685851048619, 'min': 0.731733965471959, 'max': 0.7319308830099135}}}, 'parameters': {'maxDepth': 6, 'minLeafSize': 1, 'criterion': 'GINI', 'minSplitSize': 2, 'numberOfDecisionTrees': 100, 'methodName': 'RandomForest', 'numberOfSamplesRatio': 1.0}}, {'metrics': {'OUT_OF_BAG_ERROR': {'validation': {'avg': 0.38226910987090257, 'min': 0.3793603234921563, 'max': 0.38410889629956224}}, 'AUCPR': {'validation': {'avg': 0.7318557148823687, 'min': 0.7309705041230685, 'max': 0.7329525562750779}, 'train': {'avg': 0.7318685851048619, 'min': 0.731733965471959, 'max': 0.7319308830099135}}}, 'parameters': {'maxDepth': 6, 'minLeafSize': 1, 'criterion': 'GINI', 'minSplitSize': 2, 'numberOfDecisionTrees': 100, 'methodName': 'RandomForest', 'numberOfSamplesRatio': 1.0}}, {'metrics': {'AUCPR': {'validation': {'avg': 0.7318097434484135, 'min': 0.7309953050924338, 'max': 0.7329281574676022}, 'train': {'avg': 0.7318139688407923, 'min': 0.7316862942169846, 'max': 0.7319015512869126}}}, 'parameters': {'maxEpochs': 100, 'minEpochs': 1, 'classWeights': [], 'penalty': 0.47484612789792996, 'patience': 1, 'methodName': 'LogisticRegression', 'focusWeight': 0.0, 'batchSize': 100, 'tolerance': 0.001, 'learningRate': 0.001}}, {'metrics': {'AUCPR': {'validation': {'avg': 0.7318097434484135, 'min': 0.7309953050924338, 'max': 0.7329281574676022}, 'train': {'avg': 0.7318139688407923, 'min': 0.7316862942169846, 'max': 0.7319015512869126}}}, 'parameters': {'maxEpochs': 100, 'minEpochs': 1, 'classWeights': [], 'penalty': 0.18393957528638258, 'patience': 1, 'methodName': 'LogisticRegression', 'focusWeight': 0.0, 'batchSize': 100, 'tolerance': 0.001, 'learningRate': 0.001}}, {'metrics': {'OUT_OF_BAG_ERROR': {'validation': {'avg': 0.3812462598923726, 'min': 0.3779109422196239, 'max': 0.3838263271614712}}, 'AUCPR': {'validation': {'avg': 0.731857226077803, 'min': 0.7309416808468602, 'max': 0.7329734709321793}, 'train': {'avg': 0.7318734972448814, 'min': 0.7317383003096117, 'max': 0.7319722993412281}}}, 'parameters': {'maxDepth': 9, 'minLeafSize': 1, 'criterion': 'GINI', 'minSplitSize': 2, 'numberOfDecisionTrees': 100, 'methodName': 'RandomForest', 'numberOfSamplesRatio': 1.0}}, {'metrics': {'AUCPR': {'validation': {'avg': 0.7318097434484135, 'min': 0.7309953050924338, 'max': 0.7329281574676022}, 'train': {'avg': 0.7318139688407923, 'min': 0.7316862942169846, 'max': 0.7319015512869126}}}, 'parameters': {'maxEpochs': 100, 'minEpochs': 1, 'classWeights': [], 'penalty': 0.7876620037096765, 'patience': 1, 'methodName': 'LogisticRegression', 'focusWeight': 0.0, 'batchSize': 100, 'tolerance': 0.001, 'learningRate': 0.001}}], 'bestParameters': {'maxDepth': 9, 'minLeafSize': 1, 'criterion': 'GINI', 'minSplitSize': 2, 'numberOfDecisionTrees': 100, 'methodName': 'RandomForest', 'numberOfSamplesRatio': 1.0}, 'bestTrial': 10}\"\n",
      "2700589\n",
      "\"{'pipeline': {'nodePropertySteps': [{'name': 'gds.beta.hashgnn.mutate', 'config': {'embeddingDensity': 512, 'randomSeed': 42, 'generateFeatures': {'dimension': 6, 'densityLevel': 1}, 'contextRelationshipTypes': ['HAS_PARENT', 'HAS_SOTU'], 'neighborInfluence': 0.7, 'contextNodeLabels': ['SOTU'], 'mutateProperty': 'hashGNN', 'heterogeneous': True, 'iterations': 4}}], 'featureSteps': [{'name': 'HADAMARD', 'config': {'nodeProperties': ['hashGNN']}}]}, 'modelName': 'lp-model', 'nodePropertySteps': [{'name': 'gds.beta.hashgnn.mutate', 'config': {'embeddingDensity': 512, 'randomSeed': 42, 'generateFeatures': {'dimension': 6, 'densityLevel': 1}, 'contextRelationshipTypes': ['HAS_PARENT', 'HAS_SOTU'], 'neighborInfluence': 0.7, 'contextNodeLabels': ['SOTU'], 'mutateProperty': 'hashGNN', 'heterogeneous': True, 'iterations': 4}}], 'featureSteps': [{'name': 'HADAMARD', 'config': {'nodeProperties': ['hashGNN']}}], 'modelType': 'LinkPrediction', 'metrics': {'OUT_OF_BAG_ERROR': {'test': 0.37803886147242144, 'validation': {'avg': 0.3812462598923726, 'min': 0.3779109422196239, 'max': 0.3838263271614712}}, 'AUCPR': {'test': 0.731393119926469, 'outerTrain': 0.7318554765030441, 'validation': {'avg': 0.731857226077803, 'min': 0.7309416808468602, 'max': 0.7329734709321793}, 'train': {'avg': 0.7318734972448814, 'min': 0.7317383003096117, 'max': 0.7319722993412281}}}, 'bestParameters': {'maxDepth': 9, 'minLeafSize': 1, 'criterion': 'GINI', 'minSplitSize': 2, 'numberOfDecisionTrees': 100, 'methodName': 'RandomForest', 'numberOfSamplesRatio': 1.0}}\"\n",
      "\"{'targetNodeLabel': 'Taxon', 'targetRelationshipType': 'HAS_HOST', 'concurrency': 4, 'pipeline': 'lp-pipeline', 'randomSeed': 42, 'jobId': '4755aedc-9b7e-4e22-ae0d-d577545a55ff', 'graphName': 'palmprint-host-dataset_0.1', 'modelName': 'lp-model', 'sourceNodeLabel': 'Palmprint', 'negativeClassWeight': 1.0, 'logProgress': True, 'metrics': ['AUCPR', 'OUT_OF_BAG_ERROR'], 'sudo': False}\"\n",
      "\n",
      "\n",
      "dataset.txt\n",
      "\n",
      "Graph({'graphName': 'palmprint-host-dataset_0.1', 'nodeCount': 357733, 'relationshipCount': 1449350, 'database': 'neo4j', 'configuration': {'jobId': '962930d4-317d-4412-9f62-cca794066425', 'creationTime': neo4j.time.DateTime(2023, 6, 1, 19, 8, 26, 559156998, tzinfo=<UTC>), 'inverseIndexedRelationshipTypes': [], 'logProgress': True, 'undirectedRelationshipTypes': ['HAS_PARENT', 'HAS_SOTU', 'HAS_HOST']}, 'schema': {'graphProperties': {}, 'relationships': {'HAS_HOST': {'weight': 'Float (DefaultValue(NaN), TRANSIENT, Aggregation.NONE)'}, 'HAS_PARENT': {'weight': 'Float (DefaultValue(NaN), TRANSIENT, Aggregation.NONE)'}, 'HAS_SOTU': {'weight': 'Float (DefaultValue(NaN), TRANSIENT, Aggregation.NONE)'}}, 'nodes': {'Taxon': {'features': 'List of Integer (DefaultValue(null), PERSISTENT)'}, 'Host': {'features': 'List of Integer (DefaultValue(null), PERSISTENT)'}, 'SOTU': {'features': 'List of Integer (DefaultValue(null), PERSISTENT)'}, 'Palmprint': {'features': 'List of Integer (DefaultValue(null), PERSISTENT)'}}}, 'memoryUsage': '162 MiB'})\n",
      "\n",
      "model.txt\n",
      "\n",
      "LPModel({'modelInfo': {0: {'pipeline': {'nodePropertySteps': [{'name': 'gds.beta.hashgnn.mutate', 'config': {'embeddingDensity': 512, 'randomSeed': 42, 'generateFeatures': {'dimension': 6, 'densityLevel': 1}, 'contextRelationshipTypes': ['HAS_PARENT', 'HAS_SOTU'], 'neighborInfluence': 0.7, 'contextNodeLabels': ['SOTU'], 'mutateProperty': 'hashGNN', 'heterogeneous': True, 'iterations': 4}}], 'featureSteps': [{'name': 'HADAMARD', 'config': {'nodeProperties': ['hashGNN']}}]}, 'modelName': 'lp-model', 'nodePropertySteps': [{'name': 'gds.beta.hashgnn.mutate', 'config': {'embeddingDensity': 512, 'randomSeed': 42, 'generateFeatures': {'dimension': 6, 'densityLevel': 1}, 'contextRelationshipTypes': ['HAS_PARENT', 'HAS_SOTU'], 'neighborInfluence': 0.7, 'contextNodeLabels': ['SOTU'], 'mutateProperty': 'hashGNN', 'heterogeneous': True, 'iterations': 4}}], 'featureSteps': [{'name': 'HADAMARD', 'config': {'nodeProperties': ['hashGNN']}}], 'modelType': 'LinkPrediction', 'metrics': {'OUT_OF_BAG_ERROR': {'test': 0.37803886147242144, 'validation': {'avg': 0.3812462598923726, 'min': 0.3779109422196239, 'max': 0.3838263271614712}}, 'AUCPR': {'test': 0.731393119926469, 'outerTrain': 0.7318554765030441, 'validation': {'avg': 0.731857226077803, 'min': 0.7309416808468602, 'max': 0.7329734709321793}, 'train': {'avg': 0.7318734972448814, 'min': 0.7317383003096117, 'max': 0.7319722993412281}}}, 'bestParameters': {'maxDepth': 9, 'minLeafSize': 1, 'criterion': 'GINI', 'minSplitSize': 2, 'numberOfDecisionTrees': 100, 'methodName': 'RandomForest', 'numberOfSamplesRatio': 1.0}}}, 'trainConfig': {0: {'targetNodeLabel': 'Taxon', 'targetRelationshipType': 'HAS_HOST', 'concurrency': 4, 'pipeline': 'lp-pipeline', 'randomSeed': 42, 'jobId': '4755aedc-9b7e-4e22-ae0d-d577545a55ff', 'graphName': 'palmprint-host-dataset_0.1', 'modelName': 'lp-model', 'sourceNodeLabel': 'Palmprint', 'negativeClassWeight': 1.0, 'logProgress': True, 'metrics': ['AUCPR', 'OUT_OF_BAG_ERROR'], 'sudo': False}}, 'graphSchema': {0: {'graphProperties': {}, 'relationships': {'HAS_HOST': {'weight': 'Float (DefaultValue(NaN), TRANSIENT, Aggregation.NONE)'}}, 'nodes': {'Taxon': {'features': 'List of Integer (DefaultValue(null), PERSISTENT)'}, 'Palmprint': {'features': 'List of Integer (DefaultValue(null), PERSISTENT)'}}}}, 'loaded': {0: True}, 'stored': {0: False}, 'creationTime': {0: neo4j.time.DateTime(2023, 6, 1, 19, 53, 30, 886593061, tzinfo=<UTC>)}, 'shared': {0: False}})\n",
      "\n",
      "pipeline.txt\n",
      "\n",
      "LPTrainingPipeline({'pipelineInfo': {0: {'featurePipeline': {'nodePropertySteps': [{'name': 'gds.beta.hashgnn.mutate', 'config': {'embeddingDensity': 512, 'randomSeed': 42, 'generateFeatures': {'dimension': 6, 'densityLevel': 1}, 'contextRelationshipTypes': ['HAS_PARENT', 'HAS_SOTU'], 'neighborInfluence': 0.7, 'contextNodeLabels': ['SOTU'], 'mutateProperty': 'hashGNN', 'heterogeneous': True, 'iterations': 4}}], 'featureSteps': [{'name': 'HADAMARD', 'config': {'nodeProperties': ['hashGNN']}}]}, 'splitConfig': {'negativeSamplingRatio': 1.34, 'testFraction': 0.3, 'validationFolds': 10, 'trainFraction': 0.6}, 'trainingParameterSpace': {'MultilayerPerceptron': [{'maxEpochs': 100, 'minEpochs': 1, 'classWeights': [], 'penalty': 1, 'patience': 2, 'methodName': 'MultilayerPerceptron', 'focusWeight': 0.0, 'hiddenLayerSizes': [64, 16, 4], 'batchSize': 100, 'tolerance': 0.001, 'learningRate': 0.001}], 'RandomForest': [{'maxDepth': {'range': [5, 10]}, 'minLeafSize': 1, 'criterion': 'GINI', 'minSplitSize': 2, 'numberOfDecisionTrees': 100, 'methodName': 'RandomForest', 'numberOfSamplesRatio': 1.0}], 'LogisticRegression': [{'maxEpochs': 100, 'minEpochs': 1, 'classWeights': [], 'penalty': {'range': [0.1, 2.0]}, 'patience': 1, 'methodName': 'LogisticRegression', 'focusWeight': 0.0, 'batchSize': 100, 'tolerance': 0.001, 'learningRate': 0.001}]}, 'autoTuningConfig': {'maxTrials': 10}}}, 'pipelineName': {0: 'lp-pipeline'}, 'pipelineType': {0: 'Link prediction training pipeline'}, 'creationTime': {0: neo4j.time.DateTime(2023, 6, 1, 19, 8, 30, 4071929, tzinfo=<UTC>)}})\n"
     ]
    }
   ],
   "source": [
    "run_id_with_class_ratio = '1685646457'\n",
    "sample_ratio = 0.1\n",
    "dir_prefix = f'/mnt/graphdata/results/link_prediction/{sample_ratio}/{run_id_with_class_ratio}'\n",
    "\n",
    "for artifact_file in ['eval.csv', 'dataset.txt', 'model.txt', 'pipeline.txt']:\n",
    "    with open(f'{dir_prefix}/{artifact_file}', 'r') as f:\n",
    "        print(f\"\\n{artifact_file}\\n\")\n",
    "        print(f.read())\n"
   ]
  }
 ],
 "metadata": {
  "kernelspec": {
   "display_name": "base",
   "language": "python",
   "name": "python3"
  },
  "language_info": {
   "codemirror_mode": {
    "name": "ipython",
    "version": 3
   },
   "file_extension": ".py",
   "mimetype": "text/x-python",
   "name": "python",
   "nbconvert_exporter": "python",
   "pygments_lexer": "ipython3",
   "version": "3.8.16"
  },
  "orig_nbformat": 4,
  "vscode": {
   "interpreter": {
    "hash": "da5e03ba6b2b8c2ca14b493d044111ef60b8f39439fa9a5802e41375e2b8bfac"
   }
  }
 },
 "nbformat": 4,
 "nbformat_minor": 2
}
