{
 "cells": [
  {
   "cell_type": "code",
   "execution_count": 2,
   "metadata": {},
   "outputs": [],
   "source": [
    "# Notebook config\n",
    "import sys\n",
    "if '../' not in sys.path:\n",
    "    sys.path.append(\"../\")\n",
    "%load_ext dotenv\n",
    "%dotenv"
   ]
  },
  {
   "cell_type": "code",
   "execution_count": 3,
   "metadata": {},
   "outputs": [
    {
     "name": "stderr",
     "output_type": "stream",
     "text": [
      "/home/ec2-user/miniconda3/lib/python3.8/site-packages/tqdm/auto.py:21: TqdmWarning: IProgress not found. Please update jupyter and ipywidgets. See https://ipywidgets.readthedocs.io/en/stable/user_install.html\n",
      "  from .autonotebook import tqdm as notebook_tqdm\n"
     ]
    }
   ],
   "source": [
    "from queries import gds_queries\n",
    "from datasources.neo4j import gds\n",
    "from config.base import DIR_CFG"
   ]
  },
  {
   "cell_type": "code",
   "execution_count": 5,
   "metadata": {},
   "outputs": [
    {
     "ename": "ClientError",
     "evalue": "{code: Neo.ClientError.Procedure.ProcedureCallFailed} {message: Failed to invoke procedure `gds.graph.project`: Caused by: java.lang.IllegalArgumentException: A graph with name 'SOTU-sequence-aligments' already exists.}",
     "output_type": "error",
     "traceback": [
      "\u001b[0;31m---------------------------------------------------------------------------\u001b[0m",
      "\u001b[0;31mClientError\u001b[0m                               Traceback (most recent call last)",
      "\u001b[1;32m/home/ec2-user/workspace/virus-host-graph/jobs/graph_learning/notebooks/biodiversity-sotu.ipynb Cell 3\u001b[0m in \u001b[0;36m<cell line: 1>\u001b[0;34m()\u001b[0m\n\u001b[0;32m----> <a href='vscode-notebook-cell://ssh-remote%2Bneo4j/home/ec2-user/workspace/virus-host-graph/jobs/graph_learning/notebooks/biodiversity-sotu.ipynb#W2sdnNjb2RlLXJlbW90ZQ%3D%3D?line=0'>1</a>\u001b[0m G_sotu \u001b[39m=\u001b[39m gds\u001b[39m.\u001b[39;49mgraph\u001b[39m.\u001b[39;49mproject(\n\u001b[1;32m      <a href='vscode-notebook-cell://ssh-remote%2Bneo4j/home/ec2-user/workspace/virus-host-graph/jobs/graph_learning/notebooks/biodiversity-sotu.ipynb#W2sdnNjb2RlLXJlbW90ZQ%3D%3D?line=1'>2</a>\u001b[0m     graph_name\u001b[39m=\u001b[39;49m\u001b[39m'\u001b[39;49m\u001b[39mSOTU-sequence-aligments\u001b[39;49m\u001b[39m'\u001b[39;49m,\n\u001b[1;32m      <a href='vscode-notebook-cell://ssh-remote%2Bneo4j/home/ec2-user/workspace/virus-host-graph/jobs/graph_learning/notebooks/biodiversity-sotu.ipynb#W2sdnNjb2RlLXJlbW90ZQ%3D%3D?line=2'>3</a>\u001b[0m     node_spec\u001b[39m=\u001b[39;49m[\u001b[39m'\u001b[39;49m\u001b[39mSOTU\u001b[39;49m\u001b[39m'\u001b[39;49m],\n\u001b[1;32m      <a href='vscode-notebook-cell://ssh-remote%2Bneo4j/home/ec2-user/workspace/virus-host-graph/jobs/graph_learning/notebooks/biodiversity-sotu.ipynb#W2sdnNjb2RlLXJlbW90ZQ%3D%3D?line=3'>4</a>\u001b[0m     relationship_spec\u001b[39m=\u001b[39;49m{\u001b[39m'\u001b[39;49m\u001b[39mSEQUENCE_ALIGNMENT\u001b[39;49m\u001b[39m'\u001b[39;49m: {\u001b[39m'\u001b[39;49m\u001b[39mproperties\u001b[39;49m\u001b[39m'\u001b[39;49m: [\u001b[39m'\u001b[39;49m\u001b[39mpercentIdentity\u001b[39;49m\u001b[39m'\u001b[39;49m]}},\n\u001b[1;32m      <a href='vscode-notebook-cell://ssh-remote%2Bneo4j/home/ec2-user/workspace/virus-host-graph/jobs/graph_learning/notebooks/biodiversity-sotu.ipynb#W2sdnNjb2RlLXJlbW90ZQ%3D%3D?line=4'>5</a>\u001b[0m )\n",
      "File \u001b[0;32m~/miniconda3/lib/python3.8/site-packages/graphdatascience/graph/graph_project_runner.py:15\u001b[0m, in \u001b[0;36mGraphProjectRunner.__call__\u001b[0;34m(self, graph_name, node_spec, relationship_spec, **config)\u001b[0m\n\u001b[1;32m     12\u001b[0m \u001b[39mdef\u001b[39;00m \u001b[39m__call__\u001b[39m(\n\u001b[1;32m     13\u001b[0m     \u001b[39mself\u001b[39m, graph_name: \u001b[39mstr\u001b[39m, node_spec: Any, relationship_spec: Any, \u001b[39m*\u001b[39m\u001b[39m*\u001b[39mconfig: Any\n\u001b[1;32m     14\u001b[0m ) \u001b[39m-\u001b[39m\u001b[39m>\u001b[39m Tuple[Graph, \u001b[39m\"\u001b[39m\u001b[39mSeries[Any]\u001b[39m\u001b[39m\"\u001b[39m]:\n\u001b[0;32m---> 15\u001b[0m     result \u001b[39m=\u001b[39m \u001b[39mself\u001b[39;49m\u001b[39m.\u001b[39;49m_query_runner\u001b[39m.\u001b[39;49mrun_query_with_logging(\n\u001b[1;32m     16\u001b[0m         \u001b[39mf\u001b[39;49m\u001b[39m\"\u001b[39;49m\u001b[39mCALL \u001b[39;49m\u001b[39m{\u001b[39;49;00m\u001b[39mself\u001b[39;49m\u001b[39m.\u001b[39;49m_namespace\u001b[39m}\u001b[39;49;00m\u001b[39m($graph_name, $node_spec, $relationship_spec, $config)\u001b[39;49m\u001b[39m\"\u001b[39;49m,\n\u001b[1;32m     17\u001b[0m         {\n\u001b[1;32m     18\u001b[0m             \u001b[39m\"\u001b[39;49m\u001b[39mgraph_name\u001b[39;49m\u001b[39m\"\u001b[39;49m: graph_name,\n\u001b[1;32m     19\u001b[0m             \u001b[39m\"\u001b[39;49m\u001b[39mnode_spec\u001b[39;49m\u001b[39m\"\u001b[39;49m: node_spec,\n\u001b[1;32m     20\u001b[0m             \u001b[39m\"\u001b[39;49m\u001b[39mrelationship_spec\u001b[39;49m\u001b[39m\"\u001b[39;49m: relationship_spec,\n\u001b[1;32m     21\u001b[0m             \u001b[39m\"\u001b[39;49m\u001b[39mconfig\u001b[39;49m\u001b[39m\"\u001b[39;49m: config,\n\u001b[1;32m     22\u001b[0m         },\n\u001b[1;32m     23\u001b[0m     )\u001b[39m.\u001b[39msqueeze()\n\u001b[1;32m     25\u001b[0m     \u001b[39mreturn\u001b[39;00m Graph(graph_name, \u001b[39mself\u001b[39m\u001b[39m.\u001b[39m_query_runner, \u001b[39mself\u001b[39m\u001b[39m.\u001b[39m_server_version), result\n",
      "File \u001b[0;32m~/miniconda3/lib/python3.8/site-packages/graphdatascience/query_runner/neo4j_query_runner.py:89\u001b[0m, in \u001b[0;36mNeo4jQueryRunner.run_query_with_logging\u001b[0;34m(self, query, params, database)\u001b[0m\n\u001b[1;32m     86\u001b[0m \u001b[39mself\u001b[39m\u001b[39m.\u001b[39m_log(job_id, future, database)\n\u001b[1;32m     88\u001b[0m \u001b[39mif\u001b[39;00m future\u001b[39m.\u001b[39mexception():\n\u001b[0;32m---> 89\u001b[0m     \u001b[39mraise\u001b[39;00m future\u001b[39m.\u001b[39mexception()  \u001b[39m# type: ignore\u001b[39;00m\n\u001b[1;32m     90\u001b[0m \u001b[39melse\u001b[39;00m:\n\u001b[1;32m     91\u001b[0m     \u001b[39mreturn\u001b[39;00m future\u001b[39m.\u001b[39mresult()\n",
      "File \u001b[0;32m~/miniconda3/lib/python3.8/concurrent/futures/thread.py:57\u001b[0m, in \u001b[0;36m_WorkItem.run\u001b[0;34m(self)\u001b[0m\n\u001b[1;32m     54\u001b[0m     \u001b[39mreturn\u001b[39;00m\n\u001b[1;32m     56\u001b[0m \u001b[39mtry\u001b[39;00m:\n\u001b[0;32m---> 57\u001b[0m     result \u001b[39m=\u001b[39m \u001b[39mself\u001b[39;49m\u001b[39m.\u001b[39;49mfn(\u001b[39m*\u001b[39;49m\u001b[39mself\u001b[39;49m\u001b[39m.\u001b[39;49margs, \u001b[39m*\u001b[39;49m\u001b[39m*\u001b[39;49m\u001b[39mself\u001b[39;49m\u001b[39m.\u001b[39;49mkwargs)\n\u001b[1;32m     58\u001b[0m \u001b[39mexcept\u001b[39;00m \u001b[39mBaseException\u001b[39;00m \u001b[39mas\u001b[39;00m exc:\n\u001b[1;32m     59\u001b[0m     \u001b[39mself\u001b[39m\u001b[39m.\u001b[39mfuture\u001b[39m.\u001b[39mset_exception(exc)\n",
      "File \u001b[0;32m~/miniconda3/lib/python3.8/site-packages/graphdatascience/query_runner/neo4j_query_runner.py:62\u001b[0m, in \u001b[0;36mNeo4jQueryRunner.run_query\u001b[0;34m(self, query, params, database)\u001b[0m\n\u001b[1;32m     55\u001b[0m \u001b[39m# Though pandas support may be experimental in the `neo4j` package, it should always\u001b[39;00m\n\u001b[1;32m     56\u001b[0m \u001b[39m# be supported in the `graphdatascience` package.\u001b[39;00m\n\u001b[1;32m     57\u001b[0m warnings\u001b[39m.\u001b[39mfilterwarnings(\n\u001b[1;32m     58\u001b[0m     \u001b[39m\"\u001b[39m\u001b[39mignore\u001b[39m\u001b[39m\"\u001b[39m,\n\u001b[1;32m     59\u001b[0m     message\u001b[39m=\u001b[39m\u001b[39mr\u001b[39m\u001b[39m\"\u001b[39m\u001b[39m^pandas support is experimental and might be changed or removed in future versions$\u001b[39m\u001b[39m\"\u001b[39m,\n\u001b[1;32m     60\u001b[0m )\n\u001b[0;32m---> 62\u001b[0m \u001b[39mreturn\u001b[39;00m result\u001b[39m.\u001b[39;49mto_df()\n",
      "File \u001b[0;32m~/miniconda3/lib/python3.8/site-packages/neo4j/_sync/work/result.py:733\u001b[0m, in \u001b[0;36mResult.to_df\u001b[0;34m(self, expand, parse_dates)\u001b[0m\n\u001b[1;32m    730\u001b[0m \u001b[39mimport\u001b[39;00m \u001b[39mpandas\u001b[39;00m \u001b[39mas\u001b[39;00m \u001b[39mpd\u001b[39;00m  \u001b[39m# type: ignore[import]\u001b[39;00m\n\u001b[1;32m    732\u001b[0m \u001b[39mif\u001b[39;00m \u001b[39mnot\u001b[39;00m expand:\n\u001b[0;32m--> 733\u001b[0m     df \u001b[39m=\u001b[39m pd\u001b[39m.\u001b[39mDataFrame(\u001b[39mself\u001b[39;49m\u001b[39m.\u001b[39;49mvalues(), columns\u001b[39m=\u001b[39m\u001b[39mself\u001b[39m\u001b[39m.\u001b[39m_keys)\n\u001b[1;32m    734\u001b[0m \u001b[39melse\u001b[39;00m:\n\u001b[1;32m    735\u001b[0m     df_keys \u001b[39m=\u001b[39m \u001b[39mNone\u001b[39;00m\n",
      "File \u001b[0;32m~/miniconda3/lib/python3.8/site-packages/neo4j/_sync/work/result.py:583\u001b[0m, in \u001b[0;36mResult.values\u001b[0;34m(self, *keys)\u001b[0m\n\u001b[1;32m    565\u001b[0m \u001b[39mdef\u001b[39;00m \u001b[39mvalues\u001b[39m(\n\u001b[1;32m    566\u001b[0m     \u001b[39mself\u001b[39m, \u001b[39m*\u001b[39mkeys: _TResultKey\n\u001b[1;32m    567\u001b[0m ) \u001b[39m-\u001b[39m\u001b[39m>\u001b[39m t\u001b[39m.\u001b[39mList[t\u001b[39m.\u001b[39mList[t\u001b[39m.\u001b[39mAny]]:\n\u001b[1;32m    568\u001b[0m \u001b[39m    \u001b[39m\u001b[39m\"\"\"Return the remainder of the result as a list of values lists.\u001b[39;00m\n\u001b[1;32m    569\u001b[0m \n\u001b[1;32m    570\u001b[0m \u001b[39m    :param keys: fields to return for each remaining record. Optionally filtering to include only certain values by index or key.\u001b[39;00m\n\u001b[0;32m   (...)\u001b[0m\n\u001b[1;32m    581\u001b[0m \u001b[39m    .. seealso:: :meth:`.Record.values`\u001b[39;00m\n\u001b[1;32m    582\u001b[0m \u001b[39m    \"\"\"\u001b[39;00m\n\u001b[0;32m--> 583\u001b[0m     \u001b[39mreturn\u001b[39;00m [record\u001b[39m.\u001b[39mvalues(\u001b[39m*\u001b[39mkeys) \u001b[39mfor\u001b[39;00m record \u001b[39min\u001b[39;00m \u001b[39mself\u001b[39m]\n",
      "File \u001b[0;32m~/miniconda3/lib/python3.8/site-packages/neo4j/_sync/work/result.py:583\u001b[0m, in \u001b[0;36m<listcomp>\u001b[0;34m(.0)\u001b[0m\n\u001b[1;32m    565\u001b[0m \u001b[39mdef\u001b[39;00m \u001b[39mvalues\u001b[39m(\n\u001b[1;32m    566\u001b[0m     \u001b[39mself\u001b[39m, \u001b[39m*\u001b[39mkeys: _TResultKey\n\u001b[1;32m    567\u001b[0m ) \u001b[39m-\u001b[39m\u001b[39m>\u001b[39m t\u001b[39m.\u001b[39mList[t\u001b[39m.\u001b[39mList[t\u001b[39m.\u001b[39mAny]]:\n\u001b[1;32m    568\u001b[0m \u001b[39m    \u001b[39m\u001b[39m\"\"\"Return the remainder of the result as a list of values lists.\u001b[39;00m\n\u001b[1;32m    569\u001b[0m \n\u001b[1;32m    570\u001b[0m \u001b[39m    :param keys: fields to return for each remaining record. Optionally filtering to include only certain values by index or key.\u001b[39;00m\n\u001b[0;32m   (...)\u001b[0m\n\u001b[1;32m    581\u001b[0m \u001b[39m    .. seealso:: :meth:`.Record.values`\u001b[39;00m\n\u001b[1;32m    582\u001b[0m \u001b[39m    \"\"\"\u001b[39;00m\n\u001b[0;32m--> 583\u001b[0m     \u001b[39mreturn\u001b[39;00m [record\u001b[39m.\u001b[39mvalues(\u001b[39m*\u001b[39mkeys) \u001b[39mfor\u001b[39;00m record \u001b[39min\u001b[39;00m \u001b[39mself\u001b[39m]\n",
      "File \u001b[0;32m~/miniconda3/lib/python3.8/site-packages/neo4j/_sync/work/result.py:255\u001b[0m, in \u001b[0;36mResult.__iter__\u001b[0;34m(self)\u001b[0m\n\u001b[1;32m    253\u001b[0m     \u001b[39myield\u001b[39;00m \u001b[39mself\u001b[39m\u001b[39m.\u001b[39m_record_buffer\u001b[39m.\u001b[39mpopleft()\n\u001b[1;32m    254\u001b[0m \u001b[39melif\u001b[39;00m \u001b[39mself\u001b[39m\u001b[39m.\u001b[39m_streaming:\n\u001b[0;32m--> 255\u001b[0m     \u001b[39mself\u001b[39;49m\u001b[39m.\u001b[39;49m_connection\u001b[39m.\u001b[39;49mfetch_message()\n\u001b[1;32m    256\u001b[0m \u001b[39melif\u001b[39;00m \u001b[39mself\u001b[39m\u001b[39m.\u001b[39m_discarding:\n\u001b[1;32m    257\u001b[0m     \u001b[39mself\u001b[39m\u001b[39m.\u001b[39m_discard()\n",
      "File \u001b[0;32m~/miniconda3/lib/python3.8/site-packages/neo4j/_sync/io/_common.py:180\u001b[0m, in \u001b[0;36mConnectionErrorHandler.__getattr__.<locals>.outer.<locals>.inner\u001b[0;34m(*args, **kwargs)\u001b[0m\n\u001b[1;32m    178\u001b[0m \u001b[39mdef\u001b[39;00m \u001b[39minner\u001b[39m(\u001b[39m*\u001b[39margs, \u001b[39m*\u001b[39m\u001b[39m*\u001b[39mkwargs):\n\u001b[1;32m    179\u001b[0m     \u001b[39mtry\u001b[39;00m:\n\u001b[0;32m--> 180\u001b[0m         func(\u001b[39m*\u001b[39;49margs, \u001b[39m*\u001b[39;49m\u001b[39m*\u001b[39;49mkwargs)\n\u001b[1;32m    181\u001b[0m     \u001b[39mexcept\u001b[39;00m (Neo4jError, ServiceUnavailable, SessionExpired) \u001b[39mas\u001b[39;00m exc:\n\u001b[1;32m    182\u001b[0m         \u001b[39massert\u001b[39;00m \u001b[39mnot\u001b[39;00m asyncio\u001b[39m.\u001b[39miscoroutinefunction(\u001b[39mself\u001b[39m\u001b[39m.\u001b[39m__on_error)\n",
      "File \u001b[0;32m~/miniconda3/lib/python3.8/site-packages/neo4j/_sync/io/_bolt.py:716\u001b[0m, in \u001b[0;36mBolt.fetch_message\u001b[0;34m(self)\u001b[0m\n\u001b[1;32m    712\u001b[0m \u001b[39m# Receive exactly one message\u001b[39;00m\n\u001b[1;32m    713\u001b[0m tag, fields \u001b[39m=\u001b[39m \u001b[39mself\u001b[39m\u001b[39m.\u001b[39minbox\u001b[39m.\u001b[39mpop(\n\u001b[1;32m    714\u001b[0m     hydration_hooks\u001b[39m=\u001b[39m\u001b[39mself\u001b[39m\u001b[39m.\u001b[39mresponses[\u001b[39m0\u001b[39m]\u001b[39m.\u001b[39mhydration_hooks\n\u001b[1;32m    715\u001b[0m )\n\u001b[0;32m--> 716\u001b[0m res \u001b[39m=\u001b[39m \u001b[39mself\u001b[39;49m\u001b[39m.\u001b[39;49m_process_message(tag, fields)\n\u001b[1;32m    717\u001b[0m \u001b[39mself\u001b[39m\u001b[39m.\u001b[39midle_since \u001b[39m=\u001b[39m perf_counter()\n\u001b[1;32m    718\u001b[0m \u001b[39mreturn\u001b[39;00m res\n",
      "File \u001b[0;32m~/miniconda3/lib/python3.8/site-packages/neo4j/_sync/io/_bolt5.py:336\u001b[0m, in \u001b[0;36mBolt5x0._process_message\u001b[0;34m(self, tag, fields)\u001b[0m\n\u001b[1;32m    334\u001b[0m \u001b[39mself\u001b[39m\u001b[39m.\u001b[39m_server_state_manager\u001b[39m.\u001b[39mstate \u001b[39m=\u001b[39m ServerStates\u001b[39m.\u001b[39mFAILED\n\u001b[1;32m    335\u001b[0m \u001b[39mtry\u001b[39;00m:\n\u001b[0;32m--> 336\u001b[0m     response\u001b[39m.\u001b[39;49mon_failure(summary_metadata \u001b[39mor\u001b[39;49;00m {})\n\u001b[1;32m    337\u001b[0m \u001b[39mexcept\u001b[39;00m (ServiceUnavailable, DatabaseUnavailable):\n\u001b[1;32m    338\u001b[0m     \u001b[39mif\u001b[39;00m \u001b[39mself\u001b[39m\u001b[39m.\u001b[39mpool:\n",
      "File \u001b[0;32m~/miniconda3/lib/python3.8/site-packages/neo4j/_sync/io/_common.py:247\u001b[0m, in \u001b[0;36mResponse.on_failure\u001b[0;34m(self, metadata)\u001b[0m\n\u001b[1;32m    245\u001b[0m handler \u001b[39m=\u001b[39m \u001b[39mself\u001b[39m\u001b[39m.\u001b[39mhandlers\u001b[39m.\u001b[39mget(\u001b[39m\"\u001b[39m\u001b[39mon_summary\u001b[39m\u001b[39m\"\u001b[39m)\n\u001b[1;32m    246\u001b[0m Util\u001b[39m.\u001b[39mcallback(handler)\n\u001b[0;32m--> 247\u001b[0m \u001b[39mraise\u001b[39;00m Neo4jError\u001b[39m.\u001b[39mhydrate(\u001b[39m*\u001b[39m\u001b[39m*\u001b[39mmetadata)\n",
      "\u001b[0;31mClientError\u001b[0m: {code: Neo.ClientError.Procedure.ProcedureCallFailed} {message: Failed to invoke procedure `gds.graph.project`: Caused by: java.lang.IllegalArgumentException: A graph with name 'SOTU-sequence-aligments' already exists.}"
     ]
    }
   ],
   "source": [
    "G_sotu = gds.graph.project(\n",
    "    graph_name='SOTU-sequence-aligments',\n",
    "    node_spec=['SOTU'],\n",
    "    relationship_spec={'SEQUENCE_ALIGNMENT': {'properties': ['percentIdentity']}},\n",
    ")"
   ]
  },
  {
   "cell_type": "code",
   "execution_count": null,
   "metadata": {},
   "outputs": [],
   "source": [
    "# G_sotu_taxon = gds.graph.project(\n",
    "#     graph_name='SOTU-and-Taxon',\n",
    "#     node_spec=['SOTU', 'Taxon'],\n",
    "#     relationship_spec={'SEQUENCE_ALIGNMENT': {'properties': ['percentIdentity']}, 'HAS_PARENT': {}},\n",
    "# )"
   ]
  },
  {
   "attachments": {},
   "cell_type": "markdown",
   "metadata": {},
   "source": [
    "Examine distribution of host associations per SOTU"
   ]
  },
  {
   "cell_type": "code",
   "execution_count": 4,
   "metadata": {},
   "outputs": [
    {
     "data": {
      "text/html": [
       "<div>\n",
       "<style scoped>\n",
       "    .dataframe tbody tr th:only-of-type {\n",
       "        vertical-align: middle;\n",
       "    }\n",
       "\n",
       "    .dataframe tbody tr th {\n",
       "        vertical-align: top;\n",
       "    }\n",
       "\n",
       "    .dataframe thead th {\n",
       "        text-align: right;\n",
       "    }\n",
       "</style>\n",
       "<table border=\"1\" class=\"dataframe\">\n",
       "  <thead>\n",
       "    <tr style=\"text-align: right;\">\n",
       "      <th></th>\n",
       "      <th>stDev</th>\n",
       "      <th>avg</th>\n",
       "      <th>min</th>\n",
       "      <th>max</th>\n",
       "    </tr>\n",
       "  </thead>\n",
       "  <tbody>\n",
       "    <tr>\n",
       "      <th>0</th>\n",
       "      <td>163447.10141</td>\n",
       "      <td>2275.405198</td>\n",
       "      <td>1</td>\n",
       "      <td>20314354</td>\n",
       "    </tr>\n",
       "  </tbody>\n",
       "</table>\n",
       "</div>"
      ],
      "text/plain": [
       "          stDev          avg  min       max\n",
       "0  163447.10141  2275.405198    1  20314354"
      ]
     },
     "execution_count": 4,
     "metadata": {},
     "output_type": "execute_result"
    }
   ],
   "source": [
    "gds.run_cypher('''\n",
    "    MATCH (s:SOTU)<-[:HAS_SOTU]-(:Palmprint)\n",
    "            <-[:HAS_PALMPRINT]-(:SRA)-[:HAS_HOST_METADATA]->(t:Taxon),\n",
    "    (s:SOTU)<-[:HAS_PALMPRINT]-(:SRA)-[:HAS_HOST_METADATA]->(t:Taxon)\n",
    "    WHERE NOT (t)-[:HAS_PARENT*]->(:Taxon {taxId: '12908'})\n",
    "    WITH s, t, count(*) as count \n",
    "    RETURN stDev(count) as stDev, avg(count) as avg, min(count) as min, max(count) as max\n",
    "''')"
   ]
  },
  {
   "attachments": {},
   "cell_type": "markdown",
   "metadata": {},
   "source": [
    "### Weakly Connected Components\n",
    "\n",
    "[Docs](https://neo4j.com/docs/graph-data-science/current/algorithms/wcc/)\n",
    "\n",
    "The Weakly Connected Components (WCC) algorithm finds sets of connected nodes in directed and undirected graphs. Two nodes are connected if there exists an undirected path between them."
   ]
  },
  {
   "cell_type": "code",
   "execution_count": 22,
   "metadata": {},
   "outputs": [
    {
     "name": "stdout",
     "output_type": "stream",
     "text": [
      "   Number of SOTUs\n",
      "0           513176\n",
      "   Number of sequence alginment edges\n",
      "0                            26341751\n",
      "   Number of sequence alginment edges between SOTUs\n",
      "0                                          26341751\n"
     ]
    }
   ],
   "source": [
    "output = gds.run_cypher('''\n",
    "    MATCH (n:SOTU) RETURN COUNT(n) as `Number of SOTUs`\n",
    "''')\n",
    "print(output)\n",
    "\n",
    "output = gds.run_cypher('''\n",
    "    MATCH ()-[r:SEQUENCE_ALIGNMENT]->() RETURN COUNT(r) as `Number of sequence alignment edges`\n",
    "''')\n",
    "print(output)\n",
    "\n",
    "output = gds.run_cypher('''\n",
    "    MATCH (:SOTU)-[r:SEQUENCE_ALIGNMENT]->(:SOTU) RETURN COUNT(r) as `Number of sequence alignment edges between SOTUs`\n",
    "''')\n",
    "print(output)"
   ]
  },
  {
   "cell_type": "code",
   "execution_count": 16,
   "metadata": {},
   "outputs": [
    {
     "name": "stdout",
     "output_type": "stream",
     "text": [
      "367519\n",
      "{'p99': 1, 'min': 1, 'max': 138584, 'mean': 1.3963250879546363, 'p90': 1, 'p50': 1, 'p999': 2, 'p95': 1, 'p75': 1}\n",
      "{'jobId': '2752b2f6-dd6a-488a-bd58-f5ea0e456b85', 'seedProperty': None, 'consecutiveIds': False, 'threshold': 0.0, 'logProgress': True, 'relationshipWeightProperty': 'percentIdentity', 'nodeLabels': ['*'], 'sudo': False, 'relationshipTypes': ['*'], 'concurrency': 4}\n"
     ]
    }
   ],
   "source": [
    "output = gds.wcc.stats(\n",
    "  gds.graph.get('SOTU-sequence-aligments'),\n",
    "  relationshipWeightProperty='percentIdentity',\n",
    ")\n",
    "print(output['componentCount'])\n",
    "print(output['componentDistribution'])\n",
    "print(output['configuration'])\n"
   ]
  },
  {
   "attachments": {},
   "cell_type": "markdown",
   "metadata": {},
   "source": [
    "Note: clustering was run with command:\n",
    "```\n",
    "usearch -calc_distmx otu_centroids.fa -tabbedout palmdb.40id_edge.txt \\\n",
    "        -maxdist 0.6 -termdist 0.7\n",
    "```\n",
    "\n",
    "With these thresholds, a large WCC of size 138,584 (of the 513,176 total SOTUs) are connected by `SEQUENCE_ALIGNMENT` edges. The remaining SOTUs make up the 367518 WCCs. It appears the majority of the remaining WCC have size 1, with p999 having size 2. To get fine-grained details on the distribution, we can stream the output then the number of nodes per componentID (TODO later)"
   ]
  },
  {
   "cell_type": "code",
   "execution_count": 33,
   "metadata": {},
   "outputs": [
    {
     "name": "stderr",
     "output_type": "stream",
     "text": [
      "Loading: 100%|██████████| 100.0/100 [00:05<00:00, 19.06%/s]\n"
     ]
    }
   ],
   "source": [
    "G_sotu_undirected = gds.graph.project(\n",
    "    graph_name='SOTU-sequence-aligments-undirected',\n",
    "    node_spec=['SOTU'],\n",
    "    relationship_spec={'SEQUENCE_ALIGNMENT': {'properties': ['percentIdentity'], 'orientation': 'UNDIRECTED'}},\n",
    ")"
   ]
  },
  {
   "cell_type": "code",
   "execution_count": 34,
   "metadata": {},
   "outputs": [
    {
     "name": "stderr",
     "output_type": "stream",
     "text": [
      "LocalClusteringCoefficient: 100%|██████████| 100.0/100 [02:15<00:00,  1.36s/%]"
     ]
    },
    {
     "name": "stdout",
     "output_type": "stream",
     "text": [
      "averageClusteringCoefficient                                             0.139741\n",
      "nodeCount                                                                  513176\n",
      "postProcessingMillis                                                            0\n",
      "preProcessingMillis                                                             0\n",
      "computeMillis                                                              136305\n",
      "configuration                   {'jobId': 'c2193e36-39a2-4447-9415-7a8e51732ac...\n",
      "Name: 0, dtype: object\n"
     ]
    },
    {
     "name": "stderr",
     "output_type": "stream",
     "text": [
      "\n"
     ]
    }
   ],
   "source": [
    "output = gds.localClusteringCoefficient.stats(\n",
    "  G=gds.graph.get('SOTU-sequence-aligments-undirected'),\n",
    ")\n",
    "print(output)"
   ]
  },
  {
   "cell_type": "code",
   "execution_count": 11,
   "metadata": {},
   "outputs": [
    {
     "name": "stderr",
     "output_type": "stream",
     "text": [
      "Loading: 100%|██████████| 100.0/100 [00:09<00:00, 10.20%/s]\n"
     ]
    }
   ],
   "source": [
    "G_sotu_taxon_undirected = gds.graph.project(\n",
    "    graph_name='SOTU-taxons-undirected',\n",
    "    node_spec=['SOTU', 'Taxon'],\n",
    "    relationship_spec={\n",
    "        'SEQUENCE_ALIGNMENT': {'properties': ['percentIdentity'], 'orientation': 'UNDIRECTED'},\n",
    "        'HAS_PARENT': {'orientation': 'UNDIRECTED'}\n",
    "    },\n",
    ")"
   ]
  },
  {
   "cell_type": "code",
   "execution_count": 12,
   "metadata": {},
   "outputs": [
    {
     "name": "stderr",
     "output_type": "stream",
     "text": [
      "LocalClusteringCoefficient:   0%|          | 0.14/100 [00:22<6:35:56, 237.90s/%]"
     ]
    }
   ],
   "source": [
    "output = gds.localClusteringCoefficient.stats(\n",
    "  G=gds.graph.get('SOTU-taxons-undirected'),\n",
    ")\n",
    "print(output)"
   ]
  },
  {
   "cell_type": "code",
   "execution_count": 9,
   "metadata": {},
   "outputs": [
    {
     "name": "stderr",
     "output_type": "stream",
     "text": [
      "Scc: 100%|██████████| 100.0/100 [00:03<00:00, 30.20%/s]"
     ]
    },
    {
     "name": "stdout",
     "output_type": "stream",
     "text": [
      "preProcessingMillis               0\n",
      "computeMillis                   610\n",
      "writeMillis                      41\n",
      "postProcessingMillis           3159\n",
      "nodes                        513176\n",
      "communityCount               513176\n",
      "setCount                     513176\n",
      "minSetSize                        1\n",
      "maxSetSize                        1\n",
      "p1                                1\n",
      "p5                                1\n",
      "p10                               1\n",
      "p25                               1\n",
      "p50                               1\n",
      "p75                               1\n",
      "p90                               1\n",
      "p95                               1\n",
      "p99                               1\n",
      "p100                              1\n",
      "writeProperty           componentId\n",
      "Name: 0, dtype: object\n",
      "513176\n"
     ]
    },
    {
     "name": "stderr",
     "output_type": "stream",
     "text": [
      "\n"
     ]
    }
   ],
   "source": [
    "output = gds.alpha.scc.write(\n",
    "  gds.graph.get('SOTU-sequence-aligments'),\n",
    ")\n",
    "print(output)\n",
    "print(output['communityCount'])"
   ]
  },
  {
   "cell_type": "code",
   "execution_count": null,
   "metadata": {},
   "outputs": [],
   "source": []
  }
 ],
 "metadata": {
  "kernelspec": {
   "display_name": "base",
   "language": "python",
   "name": "python3"
  },
  "language_info": {
   "codemirror_mode": {
    "name": "ipython",
    "version": 3
   },
   "file_extension": ".py",
   "mimetype": "text/x-python",
   "name": "python",
   "nbconvert_exporter": "python",
   "pygments_lexer": "ipython3",
   "version": "3.8.16"
  },
  "orig_nbformat": 4,
  "vscode": {
   "interpreter": {
    "hash": "da5e03ba6b2b8c2ca14b493d044111ef60b8f39439fa9a5802e41375e2b8bfac"
   }
  }
 },
 "nbformat": 4,
 "nbformat_minor": 2
}
