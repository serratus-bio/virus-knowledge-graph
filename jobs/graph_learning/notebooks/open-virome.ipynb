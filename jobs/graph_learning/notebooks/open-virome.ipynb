{
 "cells": [
  {
   "cell_type": "markdown",
   "metadata": {},
   "source": [
    "## Open Virome"
   ]
  },
  {
   "cell_type": "code",
   "execution_count": 2,
   "metadata": {},
   "outputs": [
    {
     "name": "stderr",
     "output_type": "stream",
     "text": [
      "/usr/local/anaconda3/envs/rnalab/lib/python3.11/site-packages/tqdm/auto.py:21: TqdmWarning: IProgress not found. Please update jupyter and ipywidgets. See https://ipywidgets.readthedocs.io/en/stable/user_install.html\n",
      "  from .autonotebook import tqdm as notebook_tqdm\n"
     ]
    }
   ],
   "source": [
    "# Notebook config\n",
    "import sys\n",
    "if '../' not in sys.path:\n",
    "    sys.path.append(\"../\")\n",
    "%load_ext dotenv\n",
    "%dotenv\n",
    "\n",
    "# imports\n",
    "import os\n",
    "from collections import defaultdict\n",
    "\n",
    "import psycopg2\n",
    "from graphdatascience import GraphDataScience\n",
    "import pandas as pd\n",
    "import numpy as np\n",
    "import matplotlib.pyplot as plt\n"
   ]
  },
  {
   "cell_type": "code",
   "execution_count": 3,
   "metadata": {},
   "outputs": [],
   "source": [
    "NEO4J_URI = os.environ.get('NEO4J_URI')\n",
    "NEO4J_USER = os.environ.get('NEO4J_USER')\n",
    "NEO4J_PASSWORD = os.environ.get('NEO4J_PASSWORD')\n",
    "\n",
    "DATA_DIR = './data'\n",
    "\n",
    "RANDOM_SEED = 42"
   ]
  },
  {
   "cell_type": "code",
   "execution_count": 5,
   "metadata": {},
   "outputs": [],
   "source": [
    "def get_gds_client():\n",
    "    return GraphDataScience(NEO4J_URI, auth=(NEO4J_USER, NEO4J_PASSWORD))\n",
    "\n",
    "def query_gds(query):\n",
    "    client = get_gds_client()\n",
    "    return client.run_cypher(query)\n",
    "\n",
    "\n",
    "def get_sql_client():\n",
    "    # These credentials are public and are safe to commit to the repository\n",
    "    # https://github.com/ababaian/serratus/wiki/SQL-Schema\n",
    "    return psycopg2.connect(\n",
    "        database=\"summary\",\n",
    "        host=\"serratus-aurora-20210406.cluster-ro-ccz9y6yshbls.us-east-1.rds.amazonaws.com\",\n",
    "        user=\"public_reader\",\n",
    "        password=\"serratus\",\n",
    "        port=\"5432\")\n",
    "\n",
    "def query_sql(query):\n",
    "    conn = get_sql_client()\n",
    "    cur = conn.cursor()\n",
    "    cur.execute(query)\n",
    "    data = cur.fetchall()\n",
    "    # df = pd.DataFrame(cursor.fetchall(), columns=['tax_id'])\n",
    "    cur.close()\n",
    "    conn.close()\n",
    "    return data\n",
    "\n"
   ]
  },
  {
   "cell_type": "code",
   "execution_count": 6,
   "metadata": {},
   "outputs": [
    {
     "name": "stdout",
     "output_type": "stream",
     "text": [
      "56831\n",
      "         acc\n",
      "0  DRR000427\n",
      "1  DRR000429\n",
      "2  DRR001762\n",
      "3  DRR001763\n",
      "4  DRR001764\n",
      "1823925\n",
      "           acc sample_acc biosample sra_study bioproject     assay_type  \\\n",
      "0  ERR11444757        NaN       NaN       NaN        NaN            WGS   \n",
      "1  ERR12177221        NaN       NaN       NaN        NaN            WGS   \n",
      "2  ERR11276730        NaN       NaN       NaN        NaN            WGS   \n",
      "3  ERR10386778        NaN       NaN       NaN        NaN  Bisulfite-Seq   \n",
      "4  ERR11526551        NaN       NaN       NaN        NaN            WGS   \n",
      "\n",
      "  librarysource organism  tax_id  total_count  self_count  \n",
      "0   METAGENOMIC      NaN    5794          330           0  \n",
      "1   METAGENOMIC      NaN    5794         1834          47  \n",
      "2       GENOMIC      NaN    5794            8           0  \n",
      "3       GENOMIC      NaN    5794        19430          21  \n",
      "4   METAGENOMIC      NaN    5794          774           0  \n"
     ]
    }
   ],
   "source": [
    "apicomplexa_label = pd.read_csv(f'{DATA_DIR}/00_apicomplexa_runs.csv', index_col=False)\n",
    "apicomplexa_stat = pd.read_csv(f'{DATA_DIR}/00_apicomplexa_STAT.csv', index_col=False)\n",
    "\n",
    "print(apicomplexa_label.shape[0])\n",
    "print(apicomplexa_label.head())\n",
    "\n",
    "print(apicomplexa_stat.shape[0])\n",
    "print(apicomplexa_stat.head())"
   ]
  },
  {
   "cell_type": "code",
   "execution_count": 7,
   "metadata": {},
   "outputs": [
    {
     "name": "stdout",
     "output_type": "stream",
     "text": [
      "56469\n",
      "362\n"
     ]
    }
   ],
   "source": [
    "overlap = apicomplexa_label['acc'].isin(apicomplexa_stat['acc'])\n",
    "print(overlap.sum())\n",
    "\n",
    "missing = apicomplexa_label[~overlap]\n",
    "print(missing.shape[0])"
   ]
  },
  {
   "cell_type": "code",
   "execution_count": 8,
   "metadata": {},
   "outputs": [
    {
     "name": "stdout",
     "output_type": "stream",
     "text": [
      "1920\n"
     ]
    }
   ],
   "source": [
    "# Get all sOTUs associated with runs labeled as apicomplexa\n",
    "labelled_runs = apicomplexa_label['acc'].unique().tolist()\n",
    "\n",
    "# randomly sample 100 runs for testing\n",
    "np.random.seed(RANDOM_SEED)\n",
    "labelled_runs = np.random.choice(labelled_runs, 100)\n",
    "\n",
    "run_string = ','.join([f\"\\'{run}\\'\" for run in labelled_runs])\n",
    "query = f\"\"\"\n",
    "    SELECT DISTINCT sotu\n",
    "    FROM palm_virome\n",
    "    WHERE run IN ({run_string})\n",
    "\"\"\"\n",
    "sotus = query_sql(query)\n",
    "print(len(sotus))\n",
    "sotus = [sotu[0] for sotu in sotus]"
   ]
  },
  {
   "cell_type": "code",
   "execution_count": 9,
   "metadata": {},
   "outputs": [
    {
     "name": "stdout",
     "output_type": "stream",
     "text": [
      "1920\n",
      "    nodeId   sotu\n",
      "0  7688210   u374\n",
      "1  7692104   u531\n",
      "2  7693716   u944\n",
      "3  7696820  u1364\n",
      "4  7702556  u2781\n"
     ]
    }
   ],
   "source": [
    "# get all sOTU node ids in the knowledge graph\n",
    "sotu_string = ','.join([f\"\\'{sotu}\\'\" for sotu in sotus])\n",
    "query = f\"\"\"\n",
    "    MATCH (s:SOTU)\n",
    "    WHERE s.sotu IN [{sotu_string}]\n",
    "    RETURN id(s) as nodeId, s.sotu as sotu\n",
    "\"\"\"\n",
    "sotu_to_node_id = query_gds(query)\n",
    "print(len(sotu_to_node_id))\n",
    "print(sotu_to_node_id.head())"
   ]
  },
  {
   "cell_type": "code",
   "execution_count": 10,
   "metadata": {},
   "outputs": [
    {
     "name": "stdout",
     "output_type": "stream",
     "text": [
      "GraphCreateResult(graph=Graph({'graphName': 'SOTU-sequence-aligments', 'nodeCount': 513176, 'relationshipCount': 26341751, 'database': 'neo4j', 'configuration': {'relationshipProjection': {'SEQUENCE_ALIGNMENT': {'aggregation': 'DEFAULT', 'orientation': 'NATURAL', 'indexInverse': False, 'properties': {'percentIdentity': {'aggregation': 'DEFAULT', 'property': 'percentIdentity', 'defaultValue': None}}, 'type': 'SEQUENCE_ALIGNMENT'}}, 'readConcurrency': 4, 'relationshipProperties': {}, 'nodeProperties': {}, 'jobId': '58c1d979-3a7b-47de-87b8-da1056120ced', 'nodeProjection': {'SOTU': {'label': 'SOTU', 'properties': {}}}, 'logProgress': True, 'creationTime': neo4j.time.DateTime(2024, 7, 26, 18, 15, 0, 672700438, tzinfo=<UTC>), 'validateRelationships': False, 'sudo': False}, 'schema': {'graphProperties': {}, 'nodes': {'SOTU': {}}, 'relationships': {'SEQUENCE_ALIGNMENT': {'percentIdentity': 'Float (DefaultValue(NaN), PERSISTENT, Aggregation.NONE)'}}}, 'memoryUsage': '270 MiB'}), result=nodeProjection                {'SOTU': {'label': 'SOTU', 'properties': {}}}\n",
      "relationshipProjection    {'SEQUENCE_ALIGNMENT': {'aggregation': 'DEFAUL...\n",
      "graphName                                           SOTU-sequence-aligments\n",
      "nodeCount                                                            513176\n",
      "relationshipCount                                                  26341751\n",
      "projectMillis                                                          2961\n",
      "Name: 0, dtype: object)\n"
     ]
    }
   ],
   "source": [
    "# Create projection of all SOTU nodes and their sequence alignments\n",
    "\n",
    "gds = get_gds_client()\n",
    "\n",
    "sotu_projection_name = 'SOTU-sequence-aligments'\n",
    "if gds.graph.exists(sotu_projection_name)['exists']:\n",
    "    gds.graph.drop(sotu_projection_name)\n",
    "\n",
    "G_sotu = gds.graph.project(\n",
    "    graph_name=sotu_projection_name,\n",
    "    node_spec=['SOTU'],\n",
    "    relationship_spec={'SEQUENCE_ALIGNMENT': {'properties': ['percentIdentity']}},\n",
    ")\n",
    "\n",
    "print(G_sotu)"
   ]
  },
  {
   "cell_type": "code",
   "execution_count": 34,
   "metadata": {},
   "outputs": [],
   "source": [
    "# Create subgraph of sOTUs associated with runs labeled as apicomplexa\n",
    "sotu_subgraph_projection_name = 'SOTU-apicomplexa-subgraph'\n",
    "resampled_edges_major, _ = gds.alpha.graph.sample.rwr(\n",
    "    graph_name=sotu_subgraph_projection_name,\n",
    "    from_G=gds.graph.get(sotu_projection_name),\n",
    "    concurrency=1,\n",
    "    randomSeed=RANDOM_SEED,\n",
    "    samplingRatio=0.5,\n",
    "    nodeLabelStratification=True,\n",
    "    relationshipWeightProperty='percentIdentity',\n",
    "    relationshipTypes=['SEQUENCE_ALIGNMENT'],\n",
    "    startNodes=sotu_to_node_id['nodeId'].tolist(),\n",
    ")"
   ]
  },
  {
   "cell_type": "code",
   "execution_count": 69,
   "metadata": {},
   "outputs": [
    {
     "ename": "KeyboardInterrupt",
     "evalue": "",
     "output_type": "error",
     "traceback": [
      "\u001b[0;31m---------------------------------------------------------------------------\u001b[0m",
      "\u001b[0;31mKeyboardInterrupt\u001b[0m                         Traceback (most recent call last)",
      "Cell \u001b[0;32mIn[69], line 14\u001b[0m\n\u001b[1;32m      6\u001b[0m \u001b[38;5;28;01mfor\u001b[39;00m sotu \u001b[38;5;129;01min\u001b[39;00m sotus:\n\u001b[1;32m      7\u001b[0m     query \u001b[38;5;241m=\u001b[39m \u001b[38;5;124mf\u001b[39m\u001b[38;5;124m\"\"\"\u001b[39m\n\u001b[1;32m      8\u001b[0m \u001b[38;5;124m        MATCH (n:SOTU)-[r:SEQUENCE_ALIGNMENT*..1]-(m:SOTU)\u001b[39m\n\u001b[1;32m      9\u001b[0m \u001b[38;5;124m        WHERE n.sotu = \u001b[39m\u001b[38;5;124m'\u001b[39m\u001b[38;5;132;01m{\u001b[39;00msotu[\u001b[38;5;241m0\u001b[39m]\u001b[38;5;132;01m}\u001b[39;00m\u001b[38;5;124m'\u001b[39m\n\u001b[0;32m   (...)\u001b[0m\n\u001b[1;32m     12\u001b[0m \u001b[38;5;124m        RETURN nn\u001b[39m\n\u001b[1;32m     13\u001b[0m \u001b[38;5;124m    \u001b[39m\u001b[38;5;124m\"\"\"\u001b[39m\n\u001b[0;32m---> 14\u001b[0m     nn_sotus \u001b[38;5;241m=\u001b[39m query_gds(query) \n\u001b[1;32m     15\u001b[0m     nn_sotus \u001b[38;5;241m=\u001b[39m nn_sotus\u001b[38;5;241m.\u001b[39mvalues[\u001b[38;5;241m0\u001b[39m][\u001b[38;5;241m0\u001b[39m]\n\u001b[1;32m     16\u001b[0m     \u001b[38;5;28;01mif\u001b[39;00m \u001b[38;5;28mlen\u001b[39m(nn_sotus) \u001b[38;5;241m>\u001b[39m \u001b[38;5;241m0\u001b[39m:\n",
      "Cell \u001b[0;32mIn[31], line 5\u001b[0m, in \u001b[0;36mquery_gds\u001b[0;34m(query)\u001b[0m\n\u001b[1;32m      4\u001b[0m \u001b[38;5;28;01mdef\u001b[39;00m \u001b[38;5;21mquery_gds\u001b[39m(query):\n\u001b[0;32m----> 5\u001b[0m     client \u001b[38;5;241m=\u001b[39m get_gds_client()\n\u001b[1;32m      6\u001b[0m     \u001b[38;5;28;01mreturn\u001b[39;00m client\u001b[38;5;241m.\u001b[39mrun_cypher(query)\n",
      "Cell \u001b[0;32mIn[31], line 2\u001b[0m, in \u001b[0;36mget_gds_client\u001b[0;34m()\u001b[0m\n\u001b[1;32m      1\u001b[0m \u001b[38;5;28;01mdef\u001b[39;00m \u001b[38;5;21mget_gds_client\u001b[39m():\n\u001b[0;32m----> 2\u001b[0m     \u001b[38;5;28;01mreturn\u001b[39;00m GraphDataScience(NEO4J_URI, auth\u001b[38;5;241m=\u001b[39m(NEO4J_USER, NEO4J_PASSWORD))\n",
      "File \u001b[0;32m/usr/local/anaconda3/envs/rnalab/lib/python3.11/site-packages/graphdatascience/graph_data_science.py:70\u001b[0m, in \u001b[0;36mGraphDataScience.__init__\u001b[0;34m(self, endpoint, auth, aura_ds, database, arrow, arrow_disable_server_verification, arrow_tls_root_certs, bookmarks)\u001b[0m\n\u001b[1;32m     68\u001b[0m     \u001b[38;5;28mself\u001b[39m\u001b[38;5;241m.\u001b[39m_query_runner \u001b[38;5;241m=\u001b[39m endpoint\n\u001b[1;32m     69\u001b[0m \u001b[38;5;28;01melse\u001b[39;00m:\n\u001b[0;32m---> 70\u001b[0m     \u001b[38;5;28mself\u001b[39m\u001b[38;5;241m.\u001b[39m_query_runner \u001b[38;5;241m=\u001b[39m Neo4jQueryRunner\u001b[38;5;241m.\u001b[39mcreate(endpoint, auth, aura_ds, database, bookmarks)\n\u001b[1;32m     72\u001b[0m \u001b[38;5;28mself\u001b[39m\u001b[38;5;241m.\u001b[39m_server_version \u001b[38;5;241m=\u001b[39m \u001b[38;5;28mself\u001b[39m\u001b[38;5;241m.\u001b[39m_query_runner\u001b[38;5;241m.\u001b[39mserver_version()\n\u001b[1;32m     74\u001b[0m \u001b[38;5;28;01mif\u001b[39;00m arrow \u001b[38;5;129;01mand\u001b[39;00m \u001b[38;5;28mself\u001b[39m\u001b[38;5;241m.\u001b[39m_server_version \u001b[38;5;241m>\u001b[39m\u001b[38;5;241m=\u001b[39m ServerVersion(\u001b[38;5;241m2\u001b[39m, \u001b[38;5;241m1\u001b[39m, \u001b[38;5;241m0\u001b[39m):\n",
      "File \u001b[0;32m/usr/local/anaconda3/envs/rnalab/lib/python3.11/site-packages/graphdatascience/query_runner/neo4j_query_runner.py:48\u001b[0m, in \u001b[0;36mNeo4jQueryRunner.create\u001b[0;34m(endpoint, auth, aura_ds, database, bookmarks, server_version)\u001b[0m\n\u001b[1;32m     44\u001b[0m         Neo4jQueryRunner\u001b[38;5;241m.\u001b[39m_configure_aura(config)\n\u001b[1;32m     46\u001b[0m     driver \u001b[38;5;241m=\u001b[39m neo4j\u001b[38;5;241m.\u001b[39mGraphDatabase\u001b[38;5;241m.\u001b[39mdriver(endpoint, auth\u001b[38;5;241m=\u001b[39mauth, \u001b[38;5;241m*\u001b[39m\u001b[38;5;241m*\u001b[39mconfig)\n\u001b[0;32m---> 48\u001b[0m     query_runner \u001b[38;5;241m=\u001b[39m Neo4jQueryRunner(\n\u001b[1;32m     49\u001b[0m         driver,\n\u001b[1;32m     50\u001b[0m         auto_close\u001b[38;5;241m=\u001b[39m\u001b[38;5;28;01mTrue\u001b[39;00m,\n\u001b[1;32m     51\u001b[0m         bookmarks\u001b[38;5;241m=\u001b[39mbookmarks,\n\u001b[1;32m     52\u001b[0m         config\u001b[38;5;241m=\u001b[39mconfig,\n\u001b[1;32m     53\u001b[0m         server_version\u001b[38;5;241m=\u001b[39mserver_version,\n\u001b[1;32m     54\u001b[0m         database\u001b[38;5;241m=\u001b[39mdatabase,\n\u001b[1;32m     55\u001b[0m     )\n\u001b[1;32m     57\u001b[0m \u001b[38;5;28;01melif\u001b[39;00m \u001b[38;5;28misinstance\u001b[39m(endpoint, neo4j\u001b[38;5;241m.\u001b[39mDriver):\n\u001b[1;32m     58\u001b[0m     query_runner \u001b[38;5;241m=\u001b[39m Neo4jQueryRunner(endpoint, auto_close\u001b[38;5;241m=\u001b[39m\u001b[38;5;28;01mFalse\u001b[39;00m, bookmarks\u001b[38;5;241m=\u001b[39mbookmarks, database\u001b[38;5;241m=\u001b[39mdatabase)\n",
      "File \u001b[0;32m/usr/local/anaconda3/envs/rnalab/lib/python3.11/site-packages/graphdatascience/query_runner/neo4j_query_runner.py:87\u001b[0m, in \u001b[0;36mNeo4jQueryRunner.__init__\u001b[0;34m(self, driver, config, database, auto_close, bookmarks, server_version)\u001b[0m\n\u001b[1;32m     85\u001b[0m \u001b[38;5;28mself\u001b[39m\u001b[38;5;241m.\u001b[39m_bookmarks \u001b[38;5;241m=\u001b[39m bookmarks\n\u001b[1;32m     86\u001b[0m \u001b[38;5;28mself\u001b[39m\u001b[38;5;241m.\u001b[39m_last_bookmarks: Optional[Any] \u001b[38;5;241m=\u001b[39m \u001b[38;5;28;01mNone\u001b[39;00m\n\u001b[0;32m---> 87\u001b[0m \u001b[38;5;28mself\u001b[39m\u001b[38;5;241m.\u001b[39m_server_version \u001b[38;5;241m=\u001b[39m server_version \u001b[38;5;28;01mif\u001b[39;00m server_version \u001b[38;5;28;01melse\u001b[39;00m \u001b[38;5;28mself\u001b[39m\u001b[38;5;241m.\u001b[39mserver_version()\n",
      "File \u001b[0;32m/usr/local/anaconda3/envs/rnalab/lib/python3.11/site-packages/graphdatascience/query_runner/neo4j_query_runner.py:188\u001b[0m, in \u001b[0;36mNeo4jQueryRunner.server_version\u001b[0;34m(self)\u001b[0m\n\u001b[1;32m    185\u001b[0m     \u001b[38;5;28;01mreturn\u001b[39;00m \u001b[38;5;28mself\u001b[39m\u001b[38;5;241m.\u001b[39m_server_version\n\u001b[1;32m    187\u001b[0m \u001b[38;5;28;01mtry\u001b[39;00m:\n\u001b[0;32m--> 188\u001b[0m     server_version_string \u001b[38;5;241m=\u001b[39m \u001b[38;5;28mself\u001b[39m\u001b[38;5;241m.\u001b[39mrun_cypher(\u001b[38;5;124m\"\u001b[39m\u001b[38;5;124mRETURN gds.version()\u001b[39m\u001b[38;5;124m\"\u001b[39m, custom_error\u001b[38;5;241m=\u001b[39m\u001b[38;5;28;01mFalse\u001b[39;00m)\u001b[38;5;241m.\u001b[39msqueeze()\n\u001b[1;32m    189\u001b[0m     \u001b[38;5;28;01mreturn\u001b[39;00m ServerVersion\u001b[38;5;241m.\u001b[39mfrom_string(server_version_string)\n\u001b[1;32m    190\u001b[0m \u001b[38;5;28;01mexcept\u001b[39;00m \u001b[38;5;167;01mException\u001b[39;00m \u001b[38;5;28;01mas\u001b[39;00m e:\n",
      "File \u001b[0;32m/usr/local/anaconda3/envs/rnalab/lib/python3.11/site-packages/graphdatascience/query_runner/neo4j_query_runner.py:106\u001b[0m, in \u001b[0;36mNeo4jQueryRunner.run_cypher\u001b[0;34m(self, query, params, database, custom_error)\u001b[0m\n\u001b[1;32m    104\u001b[0m \u001b[38;5;28;01mwith\u001b[39;00m \u001b[38;5;28mself\u001b[39m\u001b[38;5;241m.\u001b[39m_driver\u001b[38;5;241m.\u001b[39msession(database\u001b[38;5;241m=\u001b[39mdatabase, bookmarks\u001b[38;5;241m=\u001b[39m\u001b[38;5;28mself\u001b[39m\u001b[38;5;241m.\u001b[39mbookmarks()) \u001b[38;5;28;01mas\u001b[39;00m session:\n\u001b[1;32m    105\u001b[0m     \u001b[38;5;28;01mtry\u001b[39;00m:\n\u001b[0;32m--> 106\u001b[0m         result \u001b[38;5;241m=\u001b[39m session\u001b[38;5;241m.\u001b[39mrun(query, params)\n\u001b[1;32m    107\u001b[0m     \u001b[38;5;28;01mexcept\u001b[39;00m \u001b[38;5;167;01mException\u001b[39;00m \u001b[38;5;28;01mas\u001b[39;00m e:\n\u001b[1;32m    108\u001b[0m         \u001b[38;5;28;01mif\u001b[39;00m custom_error:\n",
      "File \u001b[0;32m/usr/local/anaconda3/envs/rnalab/lib/python3.11/site-packages/neo4j/_sync/work/session.py:280\u001b[0m, in \u001b[0;36mSession.run\u001b[0;34m(self, query, parameters, **kwargs)\u001b[0m\n\u001b[1;32m    277\u001b[0m     \u001b[38;5;28mself\u001b[39m\u001b[38;5;241m.\u001b[39m_auto_result\u001b[38;5;241m.\u001b[39m_buffer_all()\n\u001b[1;32m    279\u001b[0m \u001b[38;5;28;01mif\u001b[39;00m \u001b[38;5;129;01mnot\u001b[39;00m \u001b[38;5;28mself\u001b[39m\u001b[38;5;241m.\u001b[39m_connection:\n\u001b[0;32m--> 280\u001b[0m     \u001b[38;5;28mself\u001b[39m\u001b[38;5;241m.\u001b[39m_connect(\u001b[38;5;28mself\u001b[39m\u001b[38;5;241m.\u001b[39m_config\u001b[38;5;241m.\u001b[39mdefault_access_mode)\n\u001b[1;32m    281\u001b[0m cx \u001b[38;5;241m=\u001b[39m \u001b[38;5;28mself\u001b[39m\u001b[38;5;241m.\u001b[39m_connection\n\u001b[1;32m    283\u001b[0m \u001b[38;5;28mself\u001b[39m\u001b[38;5;241m.\u001b[39m_auto_result \u001b[38;5;241m=\u001b[39m Result(\n\u001b[1;32m    284\u001b[0m     cx, \u001b[38;5;28mself\u001b[39m\u001b[38;5;241m.\u001b[39m_config\u001b[38;5;241m.\u001b[39mfetch_size, \u001b[38;5;28mself\u001b[39m\u001b[38;5;241m.\u001b[39m_result_closed,\n\u001b[1;32m    285\u001b[0m     \u001b[38;5;28mself\u001b[39m\u001b[38;5;241m.\u001b[39m_result_error\n\u001b[1;32m    286\u001b[0m )\n",
      "File \u001b[0;32m/usr/local/anaconda3/envs/rnalab/lib/python3.11/site-packages/neo4j/_sync/work/session.py:120\u001b[0m, in \u001b[0;36mSession._connect\u001b[0;34m(self, access_mode, **access_kwargs)\u001b[0m\n\u001b[1;32m    118\u001b[0m     access_mode \u001b[38;5;241m=\u001b[39m \u001b[38;5;28mself\u001b[39m\u001b[38;5;241m.\u001b[39m_config\u001b[38;5;241m.\u001b[39mdefault_access_mode\n\u001b[1;32m    119\u001b[0m \u001b[38;5;28;01mtry\u001b[39;00m:\n\u001b[0;32m--> 120\u001b[0m     \u001b[38;5;28msuper\u001b[39m()\u001b[38;5;241m.\u001b[39m_connect(access_mode, \u001b[38;5;241m*\u001b[39m\u001b[38;5;241m*\u001b[39maccess_kwargs)\n\u001b[1;32m    121\u001b[0m \u001b[38;5;28;01mexcept\u001b[39;00m asyncio\u001b[38;5;241m.\u001b[39mCancelledError:\n\u001b[1;32m    122\u001b[0m     \u001b[38;5;28mself\u001b[39m\u001b[38;5;241m.\u001b[39m_handle_cancellation(message\u001b[38;5;241m=\u001b[39m\u001b[38;5;124m\"\u001b[39m\u001b[38;5;124m_connect\u001b[39m\u001b[38;5;124m\"\u001b[39m)\n",
      "File \u001b[0;32m/usr/local/anaconda3/envs/rnalab/lib/python3.11/site-packages/neo4j/_sync/work/workspace.py:168\u001b[0m, in \u001b[0;36mWorkspace._connect\u001b[0;34m(self, access_mode, **acquire_kwargs)\u001b[0m\n\u001b[1;32m    160\u001b[0m acquire_kwargs_ \u001b[38;5;241m=\u001b[39m {\n\u001b[1;32m    161\u001b[0m     \u001b[38;5;124m\"\u001b[39m\u001b[38;5;124maccess_mode\u001b[39m\u001b[38;5;124m\"\u001b[39m: access_mode,\n\u001b[1;32m    162\u001b[0m     \u001b[38;5;124m\"\u001b[39m\u001b[38;5;124mtimeout\u001b[39m\u001b[38;5;124m\"\u001b[39m: acquisition_timeout,\n\u001b[0;32m   (...)\u001b[0m\n\u001b[1;32m    165\u001b[0m     \u001b[38;5;124m\"\u001b[39m\u001b[38;5;124mliveness_check_timeout\u001b[39m\u001b[38;5;124m\"\u001b[39m: \u001b[38;5;28;01mNone\u001b[39;00m,\n\u001b[1;32m    166\u001b[0m }\n\u001b[1;32m    167\u001b[0m acquire_kwargs_\u001b[38;5;241m.\u001b[39mupdate(acquire_kwargs)\n\u001b[0;32m--> 168\u001b[0m \u001b[38;5;28mself\u001b[39m\u001b[38;5;241m.\u001b[39m_connection \u001b[38;5;241m=\u001b[39m \u001b[38;5;28mself\u001b[39m\u001b[38;5;241m.\u001b[39m_pool\u001b[38;5;241m.\u001b[39macquire(\u001b[38;5;241m*\u001b[39m\u001b[38;5;241m*\u001b[39macquire_kwargs_)\n\u001b[1;32m    169\u001b[0m \u001b[38;5;28mself\u001b[39m\u001b[38;5;241m.\u001b[39m_connection_access_mode \u001b[38;5;241m=\u001b[39m access_mode\n",
      "File \u001b[0;32m/usr/local/anaconda3/envs/rnalab/lib/python3.11/site-packages/neo4j/_sync/io/_pool.py:406\u001b[0m, in \u001b[0;36mBoltPool.acquire\u001b[0;34m(self, access_mode, timeout, database, bookmarks, liveness_check_timeout)\u001b[0m\n\u001b[1;32m    401\u001b[0m \u001b[38;5;28;01mdef\u001b[39;00m \u001b[38;5;21macquire\u001b[39m(\n\u001b[1;32m    402\u001b[0m     \u001b[38;5;28mself\u001b[39m, access_mode, timeout, database, bookmarks, liveness_check_timeout\n\u001b[1;32m    403\u001b[0m ):\n\u001b[1;32m    404\u001b[0m     \u001b[38;5;66;03m# The access_mode and database is not needed for a direct connection,\u001b[39;00m\n\u001b[1;32m    405\u001b[0m     \u001b[38;5;66;03m# it's just there for consistency.\u001b[39;00m\n\u001b[0;32m--> 406\u001b[0m     log\u001b[38;5;241m.\u001b[39mdebug(\u001b[38;5;124m\"\u001b[39m\u001b[38;5;124m[#0000]  _: <POOL> acquire direct connection, \u001b[39m\u001b[38;5;124m\"\u001b[39m\n\u001b[1;32m    407\u001b[0m               \u001b[38;5;124m\"\u001b[39m\u001b[38;5;124maccess_mode=\u001b[39m\u001b[38;5;132;01m%r\u001b[39;00m\u001b[38;5;124m, database=\u001b[39m\u001b[38;5;132;01m%r\u001b[39;00m\u001b[38;5;124m\"\u001b[39m, access_mode, database)\n\u001b[1;32m    408\u001b[0m     deadline \u001b[38;5;241m=\u001b[39m Deadline\u001b[38;5;241m.\u001b[39mfrom_timeout_or_deadline(timeout)\n\u001b[1;32m    409\u001b[0m     \u001b[38;5;28;01mreturn\u001b[39;00m \u001b[38;5;28mself\u001b[39m\u001b[38;5;241m.\u001b[39m_acquire(\n\u001b[1;32m    410\u001b[0m         \u001b[38;5;28mself\u001b[39m\u001b[38;5;241m.\u001b[39maddress, deadline, liveness_check_timeout\n\u001b[1;32m    411\u001b[0m     )\n",
      "File \u001b[0;32m/usr/local/anaconda3/envs/rnalab/lib/python3.11/logging/__init__.py:1467\u001b[0m, in \u001b[0;36mLogger.debug\u001b[0;34m(self, msg, *args, **kwargs)\u001b[0m\n\u001b[1;32m   1464\u001b[0m     \u001b[38;5;28mself\u001b[39m\u001b[38;5;241m.\u001b[39mlevel \u001b[38;5;241m=\u001b[39m _checkLevel(level)\n\u001b[1;32m   1465\u001b[0m     \u001b[38;5;28mself\u001b[39m\u001b[38;5;241m.\u001b[39mmanager\u001b[38;5;241m.\u001b[39m_clear_cache()\n\u001b[0;32m-> 1467\u001b[0m \u001b[38;5;28;01mdef\u001b[39;00m \u001b[38;5;21mdebug\u001b[39m(\u001b[38;5;28mself\u001b[39m, msg, \u001b[38;5;241m*\u001b[39margs, \u001b[38;5;241m*\u001b[39m\u001b[38;5;241m*\u001b[39mkwargs):\n\u001b[1;32m   1468\u001b[0m \u001b[38;5;250m    \u001b[39m\u001b[38;5;124;03m\"\"\"\u001b[39;00m\n\u001b[1;32m   1469\u001b[0m \u001b[38;5;124;03m    Log 'msg % args' with severity 'DEBUG'.\u001b[39;00m\n\u001b[1;32m   1470\u001b[0m \n\u001b[0;32m   (...)\u001b[0m\n\u001b[1;32m   1474\u001b[0m \u001b[38;5;124;03m    logger.debug(\"Houston, we have a %s\", \"thorny problem\", exc_info=1)\u001b[39;00m\n\u001b[1;32m   1475\u001b[0m \u001b[38;5;124;03m    \"\"\"\u001b[39;00m\n\u001b[1;32m   1476\u001b[0m     \u001b[38;5;28;01mif\u001b[39;00m \u001b[38;5;28mself\u001b[39m\u001b[38;5;241m.\u001b[39misEnabledFor(DEBUG):\n",
      "\u001b[0;31mKeyboardInterrupt\u001b[0m: "
     ]
    }
   ],
   "source": [
    "# Get all nearest neighbor sOTUs\n",
    "\n",
    "source_sotus = set()\n",
    "nn_sotus = set()\n",
    "sotu_neighbors = defaultdict(set)\n",
    "\n",
    "for sotu in sotus:\n",
    "    query = f\"\"\"\n",
    "        MATCH (n:SOTU)-[r:SEQUENCE_ALIGNMENT*..1]-(m:SOTU)\n",
    "        WHERE n.sotu = '{sotu[0]}'\n",
    "        // AND reduce(s = 0, x IN r | s + x.percentIdentity) > 2\n",
    "        WITH collect(DISTINCT m.sotu) AS nn\n",
    "        RETURN nn\n",
    "    \"\"\"\n",
    "    nn_sotus = query_gds(query)\n",
    "    nn_sotus = nn_sotus.values[0][0]\n",
    "    if len(nn_sotus) > 0:\n",
    "        source_sotus.add(sotu[0])\n",
    "        nn_sotus = [s for s in nn_sotus]\n",
    "\n",
    "print(len(source_sotus))\n",
    "print(len(nn_sotus))"
   ]
  },
  {
   "cell_type": "code",
   "execution_count": 1,
   "metadata": {},
   "outputs": [
    {
     "ename": "NameError",
     "evalue": "name 'nn_sotus' is not defined",
     "output_type": "error",
     "traceback": [
      "\u001b[0;31m---------------------------------------------------------------------------\u001b[0m",
      "\u001b[0;31mNameError\u001b[0m                                 Traceback (most recent call last)",
      "Cell \u001b[0;32mIn[1], line 1\u001b[0m\n\u001b[0;32m----> 1\u001b[0m \u001b[38;5;28mprint\u001b[39m(nn_sotus)\n",
      "\u001b[0;31mNameError\u001b[0m: name 'nn_sotus' is not defined"
     ]
    }
   ],
   "source": [
    "print(nn_sotus)"
   ]
  },
  {
   "cell_type": "code",
   "execution_count": 27,
   "metadata": {},
   "outputs": [
    {
     "name": "stdout",
     "output_type": "stream",
     "text": [
      "171775\n"
     ]
    }
   ],
   "source": []
  }
 ],
 "metadata": {
  "kernelspec": {
   "display_name": "Python 3",
   "language": "python",
   "name": "python3"
  },
  "language_info": {
   "codemirror_mode": {
    "name": "ipython",
    "version": 3
   },
   "file_extension": ".py",
   "mimetype": "text/x-python",
   "name": "python",
   "nbconvert_exporter": "python",
   "pygments_lexer": "ipython3",
   "version": "3.11.6"
  }
 },
 "nbformat": 4,
 "nbformat_minor": 2
}
