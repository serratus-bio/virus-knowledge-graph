{
 "cells": [
  {
   "cell_type": "code",
   "execution_count": 1,
   "metadata": {},
   "outputs": [],
   "source": [
    "import sys\n",
    "if '../' not in sys.path:\n",
    "    sys.path.append(\"../\")\n",
    "%load_ext dotenv\n",
    "%reload_ext dotenv\n",
    "%dotenv\n",
    "\n",
    "import matplotlib.pyplot as plt\n",
    "from collections import Counter\n",
    "from matplotlib.pyplot import figure\n",
    "\n",
    "from queries import pyg_queries, utils\n",
    "from config.base import MODEL_CFG, DATASET_CFG\n",
    "\n",
    "from queries.feature_queries import (\n",
    "    IdentityEncoder,\n",
    "    ListEncoder,\n",
    "    load_edge_tensor,\n",
    "    load_node_tensor,\n",
    ")\n",
    "from queries.utils import read_ddf_from_disk\n",
    "from models.models_v3 import Model\n",
    "from config.base import (\n",
    "    DIR_CFG,\n",
    "    MODEL_CFG,\n",
    "    DATASET_CFG,\n",
    ")\n",
    "\n",
    "import numpy as np\n",
    "import pandas as pd\n",
    "from sklearn.metrics import (\n",
    "    average_precision_score,\n",
    "    roc_auc_score,\n",
    "    accuracy_score,\n",
    "    f1_score,\n",
    "    precision_score,\n",
    "    recall_score,\n",
    ")\n",
    "import torch\n",
    "from torch_geometric import seed_everything\n",
    "from torch_geometric.data import HeteroData\n",
    "from torch_geometric.loader import LinkNeighborLoader\n",
    "from torch_geometric.utils import to_networkx\n",
    "import torch_geometric.transforms as T\n",
    "import torch.nn.functional as F\n",
    "\n",
    "seed_everything(MODEL_CFG['RANDOM_SEED'])\n"
   ]
  },
  {
   "cell_type": "code",
   "execution_count": 2,
   "metadata": {},
   "outputs": [],
   "source": [
    "\n",
    "class RandomValueEncoder(object):\n",
    "    def __init__(self, dim=1):\n",
    "        self.dim = dim\n",
    "\n",
    "    def __call__(self, df):\n",
    "        return torch.rand(len(df), self.dim)\n",
    "\n",
    "\n",
    "def create_pyg_graph(\n",
    "    sampling_rate=MODEL_CFG['SAMPLING_RATIO'],\n",
    "    dataset_cfg=DATASET_CFG,\n",
    "):\n",
    "    data = HeteroData()\n",
    "    mappings = {}\n",
    "    dir_name = f\"{DIR_CFG['DATASETS_DIR']}{sampling_rate}\"\n",
    "    node_file_paths = list(\n",
    "        map(\n",
    "            (lambda cfg: cfg['FILE_NAME']),\n",
    "            dataset_cfg['NODE_TYPES']\n",
    "        )\n",
    "    )\n",
    "    rel_file_paths = list(\n",
    "        map(\n",
    "            (lambda cfg: cfg['FILE_NAME']),\n",
    "            dataset_cfg['REL_TYPES']\n",
    "        )\n",
    "    )\n",
    "\n",
    "    if 'taxon_nodes.csv' in node_file_paths:\n",
    "        taxon_x, taxon_mapping = load_node_tensor(\n",
    "            filename=f'{dir_name}/taxon_nodes.csv',\n",
    "            index_col='appId',\n",
    "            encoders={\n",
    "                # 'rankEncoded': IdentityEncoder(\n",
    "                #     dtype=torch.long, is_tensor=True),\n",
    "                # 'features': ListEncoder(),\n",
    "                'features': RandomValueEncoder(),\n",
    "                # 'FastRP_embedding': ListEncoder(),\n",
    "            }\n",
    "        )\n",
    "        data['taxon'].node_id = torch.arange(len(taxon_x))\n",
    "        data['taxon'].x = taxon_x\n",
    "        mappings['taxon'] = taxon_mapping\n",
    "\n",
    "    if 'sotu_nodes.csv' in node_file_paths:\n",
    "        sotu_x, sotu_mapping = load_node_tensor(\n",
    "            filename=f'{dir_name}/sotu_nodes.csv',\n",
    "            index_col='appId',\n",
    "            encoders={\n",
    "                # 'centroidEncoded': IdentityEncoder(\n",
    "                #   dtype=torch.long, is_tensor=True),\n",
    "                # 'features': ListEncoder(),\n",
    "                'features': RandomValueEncoder(),\n",
    "                # 'FastRP_embedding': ListEncoder(),\n",
    "            }\n",
    "        )\n",
    "        data['sotu'].node_id = torch.arange(len(sotu_x))\n",
    "        data['sotu'].x = sotu_x #torch.arange(0, len(sotu_mapping))\n",
    "        mappings['sotu'] = sotu_mapping\n",
    "\n",
    "    # if 'tissue_nodes.csv' in node_file_paths:\n",
    "    #     tissue_x, tissue_mapping = load_node_tensor(\n",
    "    #         filename=f'{dir_name}/tissue_nodes.csv',\n",
    "    #         index_col='appId',\n",
    "    #         encoders={\n",
    "    #             # 'centroidEncoded': IdentityEncoder(\n",
    "    #             #   dtype=torch.long, is_tensor=True),\n",
    "    #             'features': ListEncoder(),\n",
    "    #             # 'FastRP_embedding': ListEncoder(),\n",
    "    #         }\n",
    "    #     )\n",
    "    #     data['tissue'].x = tissue_x # torch.arange(0, len(tissue_mapping))\n",
    "    #     mappings['tissue'] = tissue_mapping\n",
    "\n",
    "    if 'sotu_has_host_stat_edges.csv' in rel_file_paths:\n",
    "        edge_index, edge_label = load_edge_tensor(\n",
    "            filename=f'{dir_name}/sotu_has_host_stat_edges.csv',\n",
    "            src_index_col='sourceAppId',\n",
    "            src_mapping=sotu_mapping,\n",
    "            dst_index_col='targetAppId',\n",
    "            dst_mapping=taxon_mapping,\n",
    "            # encoders={\n",
    "            #     'weight': IdentityEncoder(dtype=torch.float, is_tensor=True),\n",
    "            #     'weight': BinaryEncoder(dtype=torch.long),\n",
    "            # },\n",
    "        )\n",
    "        # edge_label = torch.div(edge_label, 100)\n",
    "        data['sotu', 'has_host', 'taxon'].edge_index = edge_index\n",
    "        data['sotu', 'has_host', 'taxon'].edge_label = edge_label\n",
    "\n",
    "    # if 'taxon_has_parent_edges.csv' in rel_file_paths:\n",
    "    #     edge_index, edge_label = load_edge_tensor(\n",
    "    #         filename=f'{dir_name}/taxon_has_parent_edges.csv',\n",
    "    #         src_index_col='sourceAppId',\n",
    "    #         src_mapping=taxon_mapping,\n",
    "    #         dst_index_col='targetAppId',\n",
    "    #         dst_mapping=taxon_mapping,\n",
    "    #         encoders={\n",
    "    #             'weight': IdentityEncoder(dtype=torch.float, is_tensor=True)\n",
    "    #         },\n",
    "    #     )\n",
    "    #     data['taxon', 'has_parent', 'taxon'].edge_index = edge_index\n",
    "    #     data['taxon', 'has_parent', 'taxon'].edge_label = edge_label\n",
    "\n",
    "    # if 'tissue_has_parent_edges.csv' in rel_file_paths:\n",
    "    #     edge_index, edge_label = load_edge_tensor(\n",
    "    #         filename=f'{dir_name}/tissue_has_parent_edges.csv',\n",
    "    #         src_index_col='sourceAppId',\n",
    "    #         src_mapping=tissue_mapping,\n",
    "    #         dst_index_col='targetAppId',\n",
    "    #         dst_mapping=tissue_mapping,\n",
    "    #         encoders={\n",
    "    #             'weight': IdentityEncoder(dtype=torch.float, is_tensor=True)\n",
    "    #         },\n",
    "    #     )\n",
    "    #     data['tissue', 'has_parent', 'tissue'].edge_index = edge_index\n",
    "    #     data['tissue', 'has_parent', 'tissue'].edge_label = edge_label\n",
    "\n",
    "    # if 'sotu_sequence_alignment_edges.csv' in rel_file_paths:\n",
    "    #     edge_index, edge_label = load_edge_tensor(\n",
    "    #         filename=f'{dir_name}/sotu_sequence_alignment_edges.csv',\n",
    "    #         src_index_col='sourceAppId',\n",
    "    #         src_mapping=sotu_mapping,\n",
    "    #         dst_index_col='targetAppId',\n",
    "    #         dst_mapping=sotu_mapping,\n",
    "    #         encoders={\n",
    "    #             'weight': IdentityEncoder(dtype=torch.float, is_tensor=True)\n",
    "    #         },\n",
    "    #     )\n",
    "    #     data['sotu', 'sequence_alignment', 'sotu'].edge_index = edge_index\n",
    "    #     data['sotu', 'sequence_alignment', 'sotu'].edge_label = edge_label\n",
    "\n",
    "    # if 'sotu_has_inferred_taxon_edges.csv' in rel_file_paths:\n",
    "    #     edge_index, edge_label = load_edge_tensor(\n",
    "    #         filename=f'{dir_name}/sotu_has_inferred_taxon_edges.csv',\n",
    "    #         src_index_col='sourceAppId',\n",
    "    #         src_mapping=sotu_mapping,\n",
    "    #         dst_index_col='targetAppId',\n",
    "    #         dst_mapping=taxon_mapping,\n",
    "    #         encoders={\n",
    "    #             'weight': IdentityEncoder(dtype=torch.float, is_tensor=True)\n",
    "    #         },\n",
    "    #     )\n",
    "    #     data['sotu', 'has_inferred_taxon', 'taxon'].edge_index = edge_index\n",
    "    #     data['sotu', 'has_inferred_taxon', 'taxon'].edge_label = edge_label\n",
    "\n",
    "    node_types, edge_types = data.metadata()\n",
    "    data = T.ToUndirected()(data)\n",
    "    # if not ('taxon', 'rev_has_host', 'sotu') in edge_types:\n",
    "    #     data = T.ToUndirected()(data)\n",
    "        # Remove \"reverse\" label. (redundant if using link loader)\n",
    "        # del data['taxon', 'rev_has_host', 'sotu'].edge_label\n",
    "    return data, mappings\n"
   ]
  },
  {
   "cell_type": "code",
   "execution_count": 12,
   "metadata": {},
   "outputs": [],
   "source": [
    "data, mappings = create_pyg_graph()"
   ]
  },
  {
   "cell_type": "code",
   "execution_count": 26,
   "metadata": {},
   "outputs": [
    {
     "name": "stdout",
     "output_type": "stream",
     "text": [
      "tensor([1707641,  207201, 1574147,  ..., 2397327, 2263669, 1271946])\n",
      "tensor([1922033,  493036,  462066,  ...,  493036, 2404853, 1778056])\n"
     ]
    }
   ],
   "source": [
    "# df[4].sample(frac=1).values\n",
    "x = data['sotu', 'has_host', 'taxon'].edge_index[1]\n",
    "rand = torch.randperm(736471)\n",
    "data['sotu', 'has_host', 'taxon'].edge_index[1] = data['sotu', 'has_host', 'taxon'].edge_index[1][rand]\n",
    "print(data['sotu', 'has_host', 'taxon'].edge_index[1])\n",
    "\n",
    "print(data['sotu', 'has_host', 'taxon'].edge_index[1][rand])"
   ]
  },
  {
   "cell_type": "code",
   "execution_count": 27,
   "metadata": {},
   "outputs": [
    {
     "name": "stdout",
     "output_type": "stream",
     "text": [
      "[('9443', 34484), ('80840', 33980), ('91347', 28776), ('2732544', 28637), ('38820', 25454), ('72274', 22067), ('94695', 21236), ('9989', 19856), ('3699', 19693), ('186826', 17545)]\n"
     ]
    },
    {
     "data": {
      "image/png": "[encoded data removed]",
      "text/plain": [
       "<Figure size 2000x1000 with 1 Axes>"
      ]
     },
     "metadata": {},
     "output_type": "display_data"
    }
   ],
   "source": [
    "inv_taxon_map = {v: k for k, v in mappings['taxon'].items()}\n",
    "plot_data = data['sotu', 'has_host', 'taxon'].edge_index[1].cpu().numpy()\n",
    "plot_data = [\n",
    "    str(inv_taxon_map[node_id])\n",
    "    for node_id in plot_data\n",
    "]\n",
    "c = Counter(plot_data)\n",
    "print(c.most_common(10))\n",
    "\n",
    "most_common = dict(c.most_common(100))\n",
    "figure(figsize=(20, 10))\n",
    "plt.bar(most_common.keys(), most_common.values())\n",
    "plt.xticks(rotation=45)\n",
    "plt.show()"
   ]
  },
  {
   "cell_type": "code",
   "execution_count": 5,
   "metadata": {},
   "outputs": [
    {
     "name": "stdout",
     "output_type": "stream",
     "text": [
      "736471\n",
      "74877\n"
     ]
    }
   ],
   "source": [
    "plot_data = data['sotu', 'has_host', 'taxon'].edge_index[1].cpu().numpy()\n",
    "c = Counter(plot_data)\n",
    "most_common = dict(c.most_common(100))\n",
    "\n",
    "most_common_taxons = most_common.keys()\n",
    "A = data['sotu', 'has_host', 'taxon'].edge_index[1].clone().detach()\n",
    "# mask = sum(A == i for i in most_common_taxons ).bool()\n",
    "mask = A.apply_(lambda x: x not in most_common_taxons).bool()\n",
    "indices = torch.nonzero(mask)\n",
    "print(len(data['sotu', 'has_host', 'taxon'].edge_index[1]))\n",
    "print(len(data['sotu', 'has_host', 'taxon'].edge_index[1][mask]))\n",
    "\n",
    "\n",
    "new_edge_index = torch.stack([\n",
    "    data['sotu', 'has_host', 'taxon'].edge_index[0][mask],\n",
    "    data['sotu', 'has_host', 'taxon'].edge_index[1][mask],\n",
    "])\n",
    "\n",
    "data['sotu', 'has_host', 'taxon'].edge_index = new_edge_index\n",
    "# data['sotu', 'has_host', 'taxon'].edge_index_label = new_edge_index_label"
   ]
  },
  {
   "cell_type": "code",
   "execution_count": 28,
   "metadata": {},
   "outputs": [],
   "source": [
    "transform = T.RandomLinkSplit(\n",
    "    num_val=0.8, #0.1\n",
    "    num_test=0.1, #0.1\n",
    "    disjoint_train_ratio=0.3,\n",
    "    neg_sampling_ratio=4.0,\n",
    "    add_negative_train_samples=False,\n",
    "    edge_types=(\"sotu\", \"has_host\", \"taxon\"),\n",
    "    rev_edge_types=(\"taxon\", \"rev_has_host\", \"sotu\"), \n",
    ")\n",
    "\n",
    "train_data, val_data, test_data = transform(data)"
   ]
  },
  {
   "cell_type": "code",
   "execution_count": 29,
   "metadata": {},
   "outputs": [],
   "source": [
    "edge_label_index = train_data[\"sotu\", \"has_host\", \"taxon\"].edge_label_index\n",
    "edge_label = train_data[\"sotu\", \"has_host\", \"taxon\"].edge_label\n",
    "\n",
    "\n",
    "train_loader = LinkNeighborLoader(\n",
    "    data=train_data,\n",
    "    num_neighbors=[20, 10],\n",
    "    neg_sampling_ratio=4.0,\n",
    "    edge_label_index=((\"sotu\", \"has_host\", \"taxon\"), edge_label_index),\n",
    "    edge_label=edge_label,\n",
    "    batch_size=128,\n",
    "    shuffle=True,\n",
    ")\n",
    "\n",
    "sampled_data = next(iter(train_loader))\n",
    "# print(sampled_data[\"sotu\", \"has_host\", \"taxon\"].edge_label.min())\n",
    "# print(sampled_data)"
   ]
  },
  {
   "cell_type": "code",
   "execution_count": 30,
   "metadata": {},
   "outputs": [
    {
     "name": "stdout",
     "output_type": "stream",
     "text": [
      "Model(\n",
      "  (movie_lin): Linear(in_features=1, out_features=64, bias=True)\n",
      "  (user_emb): Embedding(513176, 64)\n",
      "  (movie_emb): Embedding(2501873, 64)\n",
      "  (gnn): GraphModule(\n",
      "    (conv1): ModuleDict(\n",
      "      (sotu__has_host__taxon): SAGEConv(64, 64, aggr=mean)\n",
      "      (taxon__rev_has_host__sotu): SAGEConv(64, 64, aggr=mean)\n",
      "    )\n",
      "    (conv2): ModuleDict(\n",
      "      (sotu__has_host__taxon): SAGEConv(64, 64, aggr=mean)\n",
      "      (taxon__rev_has_host__sotu): SAGEConv(64, 64, aggr=mean)\n",
      "    )\n",
      "  )\n",
      "  (classifier): Classifier()\n",
      ")\n"
     ]
    }
   ],
   "source": [
    "from torch_geometric.nn import SAGEConv, to_hetero\n",
    "import torch.nn.functional as F\n",
    "\n",
    "class GNN(torch.nn.Module):\n",
    "    def __init__(self, hidden_channels):\n",
    "        super().__init__()\n",
    "\n",
    "        self.conv1 = SAGEConv(hidden_channels, hidden_channels)\n",
    "        self.conv2 = SAGEConv(hidden_channels, hidden_channels)\n",
    "\n",
    "    def forward(self, x, edge_index):\n",
    "        x = F.relu(self.conv1(x, edge_index))\n",
    "        x = self.conv2(x, edge_index)\n",
    "        return x\n",
    "\n",
    "\n",
    "class Classifier(torch.nn.Module):\n",
    "    def forward(self, x_user, x_movie, edge_label_index):\n",
    "        # Convert node embeddings to edge-level representations:\n",
    "        edge_feat_user = x_user[edge_label_index[0]]\n",
    "        edge_feat_movie = x_movie[edge_label_index[1]]\n",
    "\n",
    "        # Apply dot-product to get a prediction per supervision edge:\n",
    "        return (edge_feat_user * edge_feat_movie).sum(dim=-1)\n",
    "\n",
    "class Model(torch.nn.Module):\n",
    "    def __init__(self, hidden_channels):\n",
    "        super().__init__()\n",
    "        # Since the dataset does not come with rich features, we also learn two\n",
    "        # embedding matrices for users and movies:\n",
    "        self.movie_lin = torch.nn.Linear(1, hidden_channels)\n",
    "        self.user_emb = torch.nn.Embedding(data[\"sotu\"].num_nodes, hidden_channels)\n",
    "        self.movie_emb = torch.nn.Embedding(data[\"taxon\"].num_nodes, hidden_channels)\n",
    "\n",
    "        # Instantiate homogeneous GNN:\n",
    "        self.gnn = GNN(hidden_channels)\n",
    "\n",
    "        # Convert GNN model into a heterogeneous variant:\n",
    "        self.gnn = to_hetero(self.gnn, metadata=data.metadata())\n",
    "\n",
    "        self.classifier = Classifier()\n",
    "\n",
    "    def forward(self, data):\n",
    "        x_dict = {\n",
    "          \"sotu\": self.user_emb(data[\"sotu\"].node_id),\n",
    "          \"taxon\": self.movie_lin(data[\"taxon\"].x) + self.movie_emb(data[\"taxon\"].node_id),\n",
    "        } \n",
    "\n",
    "        # `x_dict` holds feature matrices of all node types\n",
    "        # `edge_index_dict` holds all edge indices of all edge types\n",
    "        x_dict = self.gnn(x_dict, data.edge_index_dict)\n",
    "        pred = self.classifier(\n",
    "            x_dict[\"sotu\"],\n",
    "            x_dict[\"taxon\"],\n",
    "            data[\"sotu\", \"has_host\", \"taxon\"].edge_label_index,\n",
    "        )\n",
    "\n",
    "        return pred\n",
    "\n",
    "        \n",
    "model = Model(hidden_channels=64)\n",
    "\n",
    "print(model)"
   ]
  },
  {
   "cell_type": "code",
   "execution_count": 43,
   "metadata": {},
   "outputs": [
    {
     "name": "stdout",
     "output_type": "stream",
     "text": [
      "Device: 'cpu'\n"
     ]
    },
    {
     "name": "stderr",
     "output_type": "stream",
     "text": [
      "100%|██████████| 173/173 [01:41<00:00,  1.70it/s]\n"
     ]
    },
    {
     "name": "stdout",
     "output_type": "stream",
     "text": [
      "Epoch: 001, Loss: 0.0028\n"
     ]
    },
    {
     "name": "stderr",
     "output_type": "stream",
     "text": [
      "100%|██████████| 173/173 [01:39<00:00,  1.73it/s]\n"
     ]
    },
    {
     "name": "stdout",
     "output_type": "stream",
     "text": [
      "Epoch: 002, Loss: 0.0019\n"
     ]
    },
    {
     "name": "stderr",
     "output_type": "stream",
     "text": [
      "100%|██████████| 173/173 [01:38<00:00,  1.75it/s]\n"
     ]
    },
    {
     "name": "stdout",
     "output_type": "stream",
     "text": [
      "Epoch: 003, Loss: 0.0019\n"
     ]
    },
    {
     "name": "stderr",
     "output_type": "stream",
     "text": [
      "100%|██████████| 173/173 [01:38<00:00,  1.75it/s]\n"
     ]
    },
    {
     "name": "stdout",
     "output_type": "stream",
     "text": [
      "Epoch: 004, Loss: 0.0024\n"
     ]
    },
    {
     "name": "stderr",
     "output_type": "stream",
     "text": [
      "100%|██████████| 173/173 [01:40<00:00,  1.73it/s]"
     ]
    },
    {
     "name": "stdout",
     "output_type": "stream",
     "text": [
      "Epoch: 005, Loss: 0.0024\n"
     ]
    },
    {
     "name": "stderr",
     "output_type": "stream",
     "text": [
      "\n"
     ]
    }
   ],
   "source": [
    "import tqdm\n",
    "import torch.nn.functional as F\n",
    "\n",
    "device = torch.device('cuda' if torch.cuda.is_available() else 'cpu')\n",
    "print(f\"Device: '{device}'\")\n",
    "\n",
    "model = model.to(device)\n",
    "optimizer = torch.optim.Adam(model.parameters(), lr=0.001)\n",
    "\n",
    "for epoch in range(1, 6):\n",
    "    total_loss = total_examples = 0\n",
    "    for sampled_data in tqdm.tqdm(train_loader):\n",
    "        optimizer.zero_grad()\n",
    "\n",
    "        sampled_data.to(device)\n",
    "\n",
    "        # orig = sampled_data['sotu', 'has_host', 'taxon'].edge_index[1]\n",
    "        # rand = torch.randperm(orig.shape[0])\n",
    "        # sampled_data['sotu', 'has_host', 'taxon'].edge_index[1] = orig[rand]\n",
    "        pred = model(sampled_data)\n",
    "\n",
    "        ground_truth = sampled_data[\"sotu\", \"has_host\", \"taxon\"].edge_label\n",
    "        loss = F.binary_cross_entropy_with_logits(pred, ground_truth)\n",
    "\n",
    "        loss.backward()\n",
    "        optimizer.step()\n",
    "        total_loss += float(loss) * pred.numel()\n",
    "        total_examples += pred.numel()\n",
    "    print(f\"Epoch: {epoch:03d}, Loss: {total_loss / total_examples:.4f}\")"
   ]
  },
  {
   "cell_type": "code",
   "execution_count": 44,
   "metadata": {},
   "outputs": [
    {
     "name": "stdout",
     "output_type": "stream",
     "text": [
      "Sampled mini-batch:\n",
      "===================\n",
      "HeteroData(\n",
      "  taxon={\n",
      "    node_id=[271],\n",
      "    x=[271, 1],\n",
      "    n_id=[271],\n",
      "    num_sampled_nodes=[3],\n",
      "  },\n",
      "  sotu={\n",
      "    node_id=[2967],\n",
      "    x=[2967, 1],\n",
      "    n_id=[2967],\n",
      "    num_sampled_nodes=[3],\n",
      "  },\n",
      "  (sotu, has_host, taxon)={\n",
      "    edge_index=[2, 2699],\n",
      "    edge_label=[384],\n",
      "    edge_label_index=[2, 384],\n",
      "    e_id=[2699],\n",
      "    num_sampled_edges=[2],\n",
      "    input_id=[384],\n",
      "  },\n",
      "  (taxon, rev_has_host, sotu)={\n",
      "    edge_index=[2, 5532],\n",
      "    e_id=[5532],\n",
      "    num_sampled_edges=[2],\n",
      "  }\n",
      ")\n"
     ]
    }
   ],
   "source": [
    "edge_label_index = val_data[\"sotu\", \"has_host\", \"taxon\"].edge_label_index\n",
    "edge_label = val_data[\"sotu\", \"has_host\", \"taxon\"].edge_label\n",
    "\n",
    "val_loader = LinkNeighborLoader(\n",
    "    data=val_data,\n",
    "    num_neighbors=[20, 10],\n",
    "    edge_label_index=((\"sotu\", \"has_host\", \"taxon\"), edge_label_index),\n",
    "    edge_label=edge_label,\n",
    "    batch_size=3 * 128,\n",
    "    shuffle=False,\n",
    ")\n",
    "\n",
    "sampled_data = next(iter(val_loader))\n",
    "\n",
    "print(\"Sampled mini-batch:\")\n",
    "print(\"===================\")\n",
    "print(sampled_data)"
   ]
  },
  {
   "cell_type": "code",
   "execution_count": 45,
   "metadata": {},
   "outputs": [
    {
     "name": "stderr",
     "output_type": "stream",
     "text": [
      "100%|██████████| 7672/7672 [00:20<00:00, 382.52it/s]\n"
     ]
    },
    {
     "name": "stdout",
     "output_type": "stream",
     "text": [
      "\n",
      "Validation AUC: 0.9995\n",
      "precision Acc: 0.9990\n"
     ]
    }
   ],
   "source": [
    "from sklearn.metrics import roc_auc_score\n",
    "\n",
    "preds = []\n",
    "ground_truths = []\n",
    "for sampled_data in tqdm.tqdm(val_loader):\n",
    "    with torch.no_grad():\n",
    "        sampled_data.to(device)\n",
    "        preds.append(model(sampled_data))\n",
    "        ground_truths.append(sampled_data[\"sotu\", \"has_host\", \"taxon\"].edge_label)\n",
    "\n",
    "pred = torch.cat(preds, dim=0).cpu().numpy()\n",
    "ground_truth = torch.cat(ground_truths, dim=0).cpu().numpy()\n",
    "auc = roc_auc_score(ground_truth, pred)\n",
    "aupr = average_precision_score(ground_truth, pred)\n",
    "print()\n",
    "print(f\"Validation AUC: {auc:.4f}\")\n",
    "print(f\"precision Acc: {aupr:.4f}\")"
   ]
  },
  {
   "cell_type": "code",
   "execution_count": null,
   "metadata": {},
   "outputs": [],
   "source": []
  }
 ],
 "metadata": {
  "kernelspec": {
   "display_name": "rnalab-kernel",
   "language": "python",
   "name": "rnalab-kernel"
  },
  "language_info": {
   "codemirror_mode": {
    "name": "ipython",
    "version": 3
   },
   "file_extension": ".py",
   "mimetype": "text/x-python",
   "name": "python",
   "nbconvert_exporter": "python",
   "pygments_lexer": "ipython3",
   "version": "3.11.5"
  },
  "orig_nbformat": 4
 },
 "nbformat": 4,
 "nbformat_minor": 2
}
