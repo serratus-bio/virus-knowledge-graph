{
 "cells": [
  {
   "attachments": {},
   "cell_type": "markdown",
   "metadata": {},
   "source": [
    "TODO:\n",
    "- store and plot hashgnn embeddings using x, y coordinates\n",
    "    - [Plot embedddings with graphistry](https://github.com/graphistry/pygraphistry/blob/master/demos/demos_databases_apis/umap_learn/umap_learn.ipynb)\n",
    "- include more context into plots: \n",
    "    - Taxon HAS_PARENT edges\n",
    "    - SOTU SEQUENCE_ALIGNMENT edges\n",
    "    - Remove Palmprints and only keep SOTUs\n"
   ]
  },
  {
   "cell_type": "code",
   "execution_count": 1,
   "metadata": {},
   "outputs": [],
   "source": [
    "# Notebook config\n",
    "import sys\n",
    "if '../' not in sys.path:\n",
    "    sys.path.append(\"../\")\n",
    "%load_ext dotenv\n",
    "%dotenv\n",
    "\n",
    "# Imports\n",
    "import graphistry\n",
    "import os\n",
    "from queries import feature_queries\n",
    "import pandas as pd\n"
   ]
  },
  {
   "cell_type": "code",
   "execution_count": 2,
   "metadata": {},
   "outputs": [],
   "source": [
    "graphistry.register(api=3, username=os.getenv('GRAPHISTRY_USERNAME'), password=os.getenv('GRAPHISTRY_PASSWORD'))"
   ]
  },
  {
   "cell_type": "code",
   "execution_count": 3,
   "metadata": {},
   "outputs": [
    {
     "name": "stdout",
     "output_type": "stream",
     "text": [
      "No local cache file found /mnt/graphdata/datasets/data-v1/palmprint-host-dataset_0.1/sotu_has_host_metadata_edges.csv\n"
     ]
    },
    {
     "ename": "AttributeError",
     "evalue": "'NoneType' object has no attribute 'astype'",
     "output_type": "error",
     "traceback": [
      "\u001b[0;31m---------------------------------------------------------------------------\u001b[0m",
      "\u001b[0;31mAttributeError\u001b[0m                            Traceback (most recent call last)",
      "\u001b[1;32m/home/ec2-user/workspace/virus-host-graph/jobs/graph_learning/notebooks/graphistry-visualization.ipynb Cell 4\u001b[0m in \u001b[0;36m<cell line: 8>\u001b[0;34m()\u001b[0m\n\u001b[1;32m      <a href='vscode-notebook-cell://ssh-remote%2Bneo4j/home/ec2-user/workspace/virus-host-graph/jobs/graph_learning/notebooks/graphistry-visualization.ipynb#W3sdnNjb2RlLXJlbW90ZQ%3D%3D?line=1'>2</a>\u001b[0m results_dir \u001b[39m=\u001b[39m \u001b[39m'\u001b[39m\u001b[39m/mnt/graphdata/results/link_prediction/0.1/ft-eng/\u001b[39m\u001b[39m'\u001b[39m\n\u001b[1;32m      <a href='vscode-notebook-cell://ssh-remote%2Bneo4j/home/ec2-user/workspace/virus-host-graph/jobs/graph_learning/notebooks/graphistry-visualization.ipynb#W3sdnNjb2RlLXJlbW90ZQ%3D%3D?line=3'>4</a>\u001b[0m df_has_host \u001b[39m=\u001b[39m feature_queries\u001b[39m.\u001b[39mget_features_from_file(\n\u001b[1;32m      <a href='vscode-notebook-cell://ssh-remote%2Bneo4j/home/ec2-user/workspace/virus-host-graph/jobs/graph_learning/notebooks/graphistry-visualization.ipynb#W3sdnNjb2RlLXJlbW90ZQ%3D%3D?line=4'>5</a>\u001b[0m     file_name\u001b[39m=\u001b[39m\u001b[39m'\u001b[39m\u001b[39msotu_has_host_edges.csv\u001b[39m\u001b[39m'\u001b[39m,\n\u001b[1;32m      <a href='vscode-notebook-cell://ssh-remote%2Bneo4j/home/ec2-user/workspace/virus-host-graph/jobs/graph_learning/notebooks/graphistry-visualization.ipynb#W3sdnNjb2RlLXJlbW90ZQ%3D%3D?line=5'>6</a>\u001b[0m     dir_name\u001b[39m=\u001b[39mdataset_dir\n\u001b[1;32m      <a href='vscode-notebook-cell://ssh-remote%2Bneo4j/home/ec2-user/workspace/virus-host-graph/jobs/graph_learning/notebooks/graphistry-visualization.ipynb#W3sdnNjb2RlLXJlbW90ZQ%3D%3D?line=6'>7</a>\u001b[0m )\n\u001b[0;32m----> <a href='vscode-notebook-cell://ssh-remote%2Bneo4j/home/ec2-user/workspace/virus-host-graph/jobs/graph_learning/notebooks/graphistry-visualization.ipynb#W3sdnNjb2RlLXJlbW90ZQ%3D%3D?line=7'>8</a>\u001b[0m df_has_host \u001b[39m=\u001b[39m df_has_host\u001b[39m.\u001b[39;49mastype(\u001b[39mstr\u001b[39m)\n\u001b[1;32m     <a href='vscode-notebook-cell://ssh-remote%2Bneo4j/home/ec2-user/workspace/virus-host-graph/jobs/graph_learning/notebooks/graphistry-visualization.ipynb#W3sdnNjb2RlLXJlbW90ZQ%3D%3D?line=9'>10</a>\u001b[0m df_taxon \u001b[39m=\u001b[39m feature_queries\u001b[39m.\u001b[39mget_features_from_file(\n\u001b[1;32m     <a href='vscode-notebook-cell://ssh-remote%2Bneo4j/home/ec2-user/workspace/virus-host-graph/jobs/graph_learning/notebooks/graphistry-visualization.ipynb#W3sdnNjb2RlLXJlbW90ZQ%3D%3D?line=10'>11</a>\u001b[0m     file_name\u001b[39m=\u001b[39m\u001b[39m'\u001b[39m\u001b[39mtaxon_nodes.csv\u001b[39m\u001b[39m'\u001b[39m,\n\u001b[1;32m     <a href='vscode-notebook-cell://ssh-remote%2Bneo4j/home/ec2-user/workspace/virus-host-graph/jobs/graph_learning/notebooks/graphistry-visualization.ipynb#W3sdnNjb2RlLXJlbW90ZQ%3D%3D?line=11'>12</a>\u001b[0m     dir_name\u001b[39m=\u001b[39mdataset_dir\n\u001b[1;32m     <a href='vscode-notebook-cell://ssh-remote%2Bneo4j/home/ec2-user/workspace/virus-host-graph/jobs/graph_learning/notebooks/graphistry-visualization.ipynb#W3sdnNjb2RlLXJlbW90ZQ%3D%3D?line=12'>13</a>\u001b[0m )\n\u001b[1;32m     <a href='vscode-notebook-cell://ssh-remote%2Bneo4j/home/ec2-user/workspace/virus-host-graph/jobs/graph_learning/notebooks/graphistry-visualization.ipynb#W3sdnNjb2RlLXJlbW90ZQ%3D%3D?line=13'>14</a>\u001b[0m df_taxon \u001b[39m=\u001b[39m df_taxon\u001b[39m.\u001b[39mastype(\u001b[39mstr\u001b[39m)\n",
      "\u001b[0;31mAttributeError\u001b[0m: 'NoneType' object has no attribute 'astype'"
     ]
    }
   ],
   "source": [
    "dataset_dir = '/mnt/graphdata/datasets/data-v1/palmprint-host-dataset_0.1/'\n",
    "results_dir = '/mnt/graphdata/results/link_prediction/0.1/ft-eng/'\n",
    "\n",
    "df_has_host = feature_queries.get_features_from_file(\n",
    "    file_name='sotu_has_host_metadata_edges.csv',\n",
    "    dir_name=dataset_dir\n",
    ")\n",
    "df_has_host = df_has_host.astype(str)\n",
    "\n",
    "df_taxon = feature_queries.get_features_from_file(\n",
    "    file_name='taxon_nodes.csv',\n",
    "    dir_name=dataset_dir\n",
    ")\n",
    "df_taxon = df_taxon.astype(str)\n",
    "\n",
    "df_taxon = df_has_host[['targetAppId']].merge(\n",
    "    df_taxon,\n",
    "    left_on='targetAppId',\n",
    "    right_on='appId',\n",
    "    how='left',\n",
    ").dropna().compute()\n",
    "\n",
    "\n",
    "df_palmprint = feature_queries.get_features_from_file(\n",
    "    file_name='sotu_nodes.csv',\n",
    "    dir_name=dataset_dir\n",
    ")\n",
    "df_palmprint = df_palmprint.astype(str)\n",
    "\n",
    "df_palmprint = df_has_host[['sourceAppId']].merge(\n",
    "    df_palmprint,\n",
    "    left_on='sourceAppId',\n",
    "    right_on='appId',\n",
    "    how='left',\n",
    ").dropna().compute()\n",
    "\n",
    "\n",
    "df_has_parent = feature_queries.get_features_from_file(\n",
    "    file_name='has_parent_edges.csv',\n",
    "    dir_name=dataset_dir\n",
    ")\n",
    "df_has_parent = df_has_parent.astype(str)\n",
    "\n",
    "# df_has_parent = df_has_parent[['sourceAppId']].merge(\n",
    "#     df_taxon,\n",
    "#     left_on='sourceAppId',\n",
    "#     right_on='appId',\n",
    "#     how='left',\n",
    "# ).dropna()\n",
    "# print(len(df_has_parent))\n",
    "\n",
    "\n",
    "df_pred_has_host = feature_queries.get_features_from_file(\n",
    "    file_name='approx_predictions.csv',\n",
    "    dir_name=results_dir\n",
    ")\n",
    "\n",
    "# print('HAS_HOST_METADATA')\n",
    "# print(len(df_has_host))\n",
    "# print(df_has_host.head())\n",
    "\n",
    "# print('HAS_PARENT')\n",
    "# print(len(df_has_parent))\n",
    "# print(df_has_parent.head())\n",
    "\n",
    "# print('Palmprint')\n",
    "# print(len(df_palmprint))\n",
    "# print(df_palmprint.head())\n",
    "\n",
    "# print('Taxon')\n",
    "# print(len(df_taxon))\n",
    "# print(df_taxon.head())"
   ]
  },
  {
   "cell_type": "code",
   "execution_count": 5,
   "metadata": {},
   "outputs": [
    {
     "name": "stdout",
     "output_type": "stream",
     "text": [
      "3\n",
      "{\"['Taxon', 'Host']\", \"['Palmprint', 'SOTU']\", \"['Palmprint']\"}\n"
     ]
    }
   ],
   "source": [
    "# df_taxon_reudced = df_taxon[['appId', 'features']]\n",
    "# df_palmprint_reduced = df_palmprint[['appId', 'features']]\n",
    "\n",
    "df_taxon['type'] =  df_taxon['labels']\n",
    "df_palmprint['type'] =  df_palmprint['labels']\n",
    "\n",
    "merged_nodes = pd.concat([\n",
    "    df_taxon[['appId', 'nodeId', 'type', 'rank']],\n",
    "    df_palmprint[['appId', 'nodeId', 'type', 'centroid']],\n",
    "]).drop_duplicates(subset=['appId'])\n",
    "classes = set(col for col in merged_nodes['type'].values)\n",
    "print(len(classes))\n",
    "print(classes)\n",
    "\n"
   ]
  },
  {
   "cell_type": "code",
   "execution_count": 8,
   "metadata": {},
   "outputs": [],
   "source": [
    "# df_pred_has_host.astype(str)\n",
    "\n",
    "# df_pred_has_host['sourceNodeId'] = df_pred_has_host['node1']\n",
    "# df_pred_has_host['targetNodeId'] = df_pred_has_host['node2']\n",
    "# df_pred_has_host['weight'] = df_pred_has_host['probability']\n",
    "\n",
    "# df_pred_has_host['sourceNodeId'] = df_pred_has_host['sourceNodeId'].astype(str)\n",
    "# df_pred_has_host['targetNodeId'] = df_pred_has_host['targetNodeId'].astype(str)\n",
    "# df_pred_has_host['weight'] = df_pred_has_host['weight'].astype(str)\n",
    "# df_pred_has_host['relationshipType'] = 'PREDICTED_HAS_HOST'\n",
    "\n",
    "# print(df_pred_has_host.head())\n",
    "# print(len(df_pred_has_host))\n",
    "\n",
    "# df_pred_has_host = df_pred_has_host.loc[:, ~df_pred_has_host.columns.str.contains('node1')]\n",
    "# df_pred_has_host = df_pred_has_host.loc[:, ~df_pred_has_host.columns.str.contains('node2')]\n",
    "# df_pred_has_host = df_pred_has_host.loc[:, ~df_pred_has_host.columns.str.contains('probability')]\n",
    "\n",
    "# df_pred_has_host[''] = df_pred_has_host.index.rename({\n",
    "#     'node1': 'sourceNodeId',\n",
    "#     'node2': 'targetNodeId',\n",
    "#     'probability': 'weight',\n",
    "# })\n",
    "\n",
    "merged_edges = pd.concat([\n",
    "    df_has_host.compute(),\n",
    "    # df_has_parent.compute(),\n",
    "    # df_pred_has_host.compute(),\n",
    "]).drop_duplicates(subset=['sourceAppId', 'targetAppId'])\n",
    "\n"
   ]
  },
  {
   "cell_type": "code",
   "execution_count": 296,
   "metadata": {},
   "outputs": [
    {
     "name": "stdout",
     "output_type": "stream",
     "text": [
      "  sourceNodeId targetNodeId relationshipType sourceAppId targetAppId  \\\n",
      "0      7682523     10228304         HAS_HOST_METADATA        u509     1807597   \n",
      "1      7682571      8927404         HAS_HOST_METADATA      u13821      211044   \n",
      "2      7694378      8794922         HAS_HOST_METADATA     u738728       60711   \n",
      "3      7694393     11002401         HAS_HOST_METADATA     u102609     2697049   \n",
      "4      7695465      8761715         HAS_HOST_METADATA     u466651        7227   \n",
      "\n",
      "                   weight weightUnscaled  \n",
      "0  2.4872528292500934e-05              2  \n",
      "1  2.4872528292500934e-05              2  \n",
      "2                     0.0              1  \n",
      "3      0.0011192637731625             46  \n",
      "4                     0.0              1  \n"
     ]
    }
   ],
   "source": [
    "print(merged_edges.head())"
   ]
  },
  {
   "cell_type": "code",
   "execution_count": 9,
   "metadata": {},
   "outputs": [],
   "source": [
    "g = graphistry.bind()\n",
    "\n",
    "g = g.bind(\n",
    "    source='sourceAppId',\n",
    "    destination='targetAppId',\n",
    ").edges(merged_edges)\n",
    "\n",
    "g = g.bind(node='appId', point_label='appId').nodes(merged_nodes)\n",
    "pallete = [\n",
    "    'red', 'green', 'blue', 'orange',\n",
    "    # \"#32964d\", \"#a3d2a0\", \"#155126\", \n",
    "    # \"#64d4fd\", \"#378dae\", \"#374475\", \n",
    "]\n",
    "g = g.encode_point_color(\n",
    "    'type',\n",
    "    # palette=pallete,\n",
    "    categorical_mapping={\n",
    "        \"['Palmprint', 'SOTU']\": 'blue',\n",
    "        \"['Palmprint']\": 'purple',\n",
    "        \"['Taxon', 'Host']\": 'green',\n",
    "    },\n",
    "    as_categorical=True\n",
    ")"
   ]
  },
  {
   "cell_type": "code",
   "execution_count": 10,
   "metadata": {},
   "outputs": [
    {
     "data": {
      "text/html": [
       "\n",
       "            <iframe id=\"a52fbae9-1a40-4096-a9a3-be5e917a27ba\" src=\"https://hub.graphistry.com/graph/graph.html?dataset=15bc29153c8f485ba6014118503ea59c&type=arrow&viztoken=342617e0-adf2-4dd6-8189-233542347a85&usertag=e9f2f438-pygraphistry-0.29.1&splashAfter=1686328854&info=true\"\n",
       "                    allowfullscreen=\"true\" webkitallowfullscreen=\"true\" mozallowfullscreen=\"true\"\n",
       "                    oallowfullscreen=\"true\" msallowfullscreen=\"true\"\n",
       "                    style=\"width:100%; height:500px; border: 1px solid #DDD; overflow: hidden\"\n",
       "                    \n",
       "            >\n",
       "            </iframe>\n",
       "        \n",
       "            <script>\n",
       "                try {\n",
       "                  $(\"#a52fbae9-1a40-4096-a9a3-be5e917a27ba\").bind('mousewheel', function(e) { e.preventDefault(); });\n",
       "                } catch (e) { console.error('exn catching scroll', e); }\n",
       "            </script>\n",
       "        "
      ],
      "text/plain": [
       "<IPython.core.display.HTML object>"
      ]
     },
     "execution_count": 10,
     "metadata": {},
     "output_type": "execute_result"
    }
   ],
   "source": [
    "\n",
    "g.plot()"
   ]
  },
  {
   "cell_type": "code",
   "execution_count": null,
   "metadata": {},
   "outputs": [],
   "source": []
  }
 ],
 "metadata": {
  "kernelspec": {
   "display_name": "base",
   "language": "python",
   "name": "python3"
  },
  "language_info": {
   "codemirror_mode": {
    "name": "ipython",
    "version": 3
   },
   "file_extension": ".py",
   "mimetype": "text/x-python",
   "name": "python",
   "nbconvert_exporter": "python",
   "pygments_lexer": "ipython3",
   "version": "3.8.16"
  },
  "orig_nbformat": 4,
  "vscode": {
   "interpreter": {
    "hash": "da5e03ba6b2b8c2ca14b493d044111ef60b8f39439fa9a5802e41375e2b8bfac"
   }
  }
 },
 "nbformat": 4,
 "nbformat_minor": 2
}
